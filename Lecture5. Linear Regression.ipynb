{
 "cells": [
  {
   "cell_type": "markdown",
   "id": "intense-shadow",
   "metadata": {},
   "source": [
    "# Lecture5. Linear Regression Example 1"
   ]
  },
  {
   "cell_type": "markdown",
   "id": "inclusive-peace",
   "metadata": {},
   "source": [
    "#### - 목차 -"
   ]
  },
  {
   "cell_type": "markdown",
   "id": "single-dancing",
   "metadata": {},
   "source": [
    "[1. 실험환경 구성 (Experimental setting)](#1.-실험환경-구성-(Experimental-setting))  \n",
    "[2. 데이터 불러오기 (Data loading)](#2.-데이터-불러오기-(Data-loading))  \n",
    ">[데이터 확인](#데이터-확인)  \n",
    ">[학습, 테스트 데이터 분리](#학습,-테스트-데이터-분리)  \n",
    "  \n",
    "[3. Linear Regression 모델 구축](#3.-Linear-Regression-모델-구축)  \n",
    ">[선형회귀 학습](#선형회귀-학습)  \n",
    ">[선형회귀 학습 결과](#선형회귀-학습-결과)  \n",
    "  \n",
    "[4. Ridge/Lasso/ElasticNet 모델 구축 및 학습](#4.-Ridge/Lasso/ElasticNet-모델-구축-및-학습)  \n",
    "\n",
    "[5. lambda(HyperParameter) 튜닝](#5.-lambda(HyperParameter)-튜닝)\n",
    ">[Ridge](#Ridge)  \n",
    ">[Lasso](#Lasso)  \n",
    ">[ElasticNet](#ElasticNet)  \n",
    "  \n",
    "[6. 각 모델의 solution path 차트](#6.-각-모델의-solution-path-차트)  \n",
    ">[회귀계수](#회귀계수)  \n",
    ">[MSE](#MSE)  \n",
    "  \n",
    "[7. 테스트 수행 (예측정확도 비교)](#7.-테스트p수행-(예측정확도-비교))"
   ]
  },
  {
   "cell_type": "markdown",
   "id": "special-kentucky",
   "metadata": {},
   "source": [
    "# 1. 실험환경 구성 (Experimental setting)"
   ]
  },
  {
   "cell_type": "code",
   "execution_count": 28,
   "id": "smooth-wales",
   "metadata": {},
   "outputs": [],
   "source": [
    "# 라이브러리 로드 \n",
    "import pandas as pd\n",
    "import numpy as np\n",
    "import matplotlib.pyplot as plt\n",
    "\n",
    "from sklearn.datasets import load_boston # sklearn에서 제공하는 Boston 주택가격 Dataset\n",
    "from sklearn.model_selection import train_test_split # train set과 test set 분리\n",
    "from sklearn.metrics import mean_squared_error # MSE\n",
    "from sklearn.linear_model import LinearRegression, Ridge, Lasso, ElasticNet\n",
    "\n",
    "import warnings\n",
    "warnings.filterwarnings('ignore')"
   ]
  },
  {
   "cell_type": "markdown",
   "id": "removed-bankruptcy",
   "metadata": {},
   "source": [
    "# 2. 데이터 불러오기 (Data loading)"
   ]
  },
  {
   "cell_type": "markdown",
   "id": "latest-afghanistan",
   "metadata": {},
   "source": [
    "## 데이터 확인"
   ]
  },
  {
   "cell_type": "code",
   "execution_count": 2,
   "id": "substantial-secondary",
   "metadata": {},
   "outputs": [
    {
     "data": {
      "text/html": [
       "<div>\n",
       "<style scoped>\n",
       "    .dataframe tbody tr th:only-of-type {\n",
       "        vertical-align: middle;\n",
       "    }\n",
       "\n",
       "    .dataframe tbody tr th {\n",
       "        vertical-align: top;\n",
       "    }\n",
       "\n",
       "    .dataframe thead th {\n",
       "        text-align: right;\n",
       "    }\n",
       "</style>\n",
       "<table border=\"1\" class=\"dataframe\">\n",
       "  <thead>\n",
       "    <tr style=\"text-align: right;\">\n",
       "      <th></th>\n",
       "      <th>CRIM</th>\n",
       "      <th>ZN</th>\n",
       "      <th>INDUS</th>\n",
       "      <th>CHAS</th>\n",
       "      <th>NOX</th>\n",
       "      <th>RM</th>\n",
       "      <th>AGE</th>\n",
       "      <th>DIS</th>\n",
       "      <th>RAD</th>\n",
       "      <th>TAX</th>\n",
       "      <th>PTRATIO</th>\n",
       "      <th>B</th>\n",
       "      <th>LSTAT</th>\n",
       "      <th>target</th>\n",
       "    </tr>\n",
       "  </thead>\n",
       "  <tbody>\n",
       "    <tr>\n",
       "      <th>0</th>\n",
       "      <td>0.00632</td>\n",
       "      <td>18.0</td>\n",
       "      <td>2.31</td>\n",
       "      <td>0.0</td>\n",
       "      <td>0.538</td>\n",
       "      <td>6.575</td>\n",
       "      <td>65.2</td>\n",
       "      <td>4.0900</td>\n",
       "      <td>1.0</td>\n",
       "      <td>296.0</td>\n",
       "      <td>15.3</td>\n",
       "      <td>396.90</td>\n",
       "      <td>4.98</td>\n",
       "      <td>24.0</td>\n",
       "    </tr>\n",
       "    <tr>\n",
       "      <th>1</th>\n",
       "      <td>0.02731</td>\n",
       "      <td>0.0</td>\n",
       "      <td>7.07</td>\n",
       "      <td>0.0</td>\n",
       "      <td>0.469</td>\n",
       "      <td>6.421</td>\n",
       "      <td>78.9</td>\n",
       "      <td>4.9671</td>\n",
       "      <td>2.0</td>\n",
       "      <td>242.0</td>\n",
       "      <td>17.8</td>\n",
       "      <td>396.90</td>\n",
       "      <td>9.14</td>\n",
       "      <td>21.6</td>\n",
       "    </tr>\n",
       "    <tr>\n",
       "      <th>2</th>\n",
       "      <td>0.02729</td>\n",
       "      <td>0.0</td>\n",
       "      <td>7.07</td>\n",
       "      <td>0.0</td>\n",
       "      <td>0.469</td>\n",
       "      <td>7.185</td>\n",
       "      <td>61.1</td>\n",
       "      <td>4.9671</td>\n",
       "      <td>2.0</td>\n",
       "      <td>242.0</td>\n",
       "      <td>17.8</td>\n",
       "      <td>392.83</td>\n",
       "      <td>4.03</td>\n",
       "      <td>34.7</td>\n",
       "    </tr>\n",
       "    <tr>\n",
       "      <th>3</th>\n",
       "      <td>0.03237</td>\n",
       "      <td>0.0</td>\n",
       "      <td>2.18</td>\n",
       "      <td>0.0</td>\n",
       "      <td>0.458</td>\n",
       "      <td>6.998</td>\n",
       "      <td>45.8</td>\n",
       "      <td>6.0622</td>\n",
       "      <td>3.0</td>\n",
       "      <td>222.0</td>\n",
       "      <td>18.7</td>\n",
       "      <td>394.63</td>\n",
       "      <td>2.94</td>\n",
       "      <td>33.4</td>\n",
       "    </tr>\n",
       "    <tr>\n",
       "      <th>4</th>\n",
       "      <td>0.06905</td>\n",
       "      <td>0.0</td>\n",
       "      <td>2.18</td>\n",
       "      <td>0.0</td>\n",
       "      <td>0.458</td>\n",
       "      <td>7.147</td>\n",
       "      <td>54.2</td>\n",
       "      <td>6.0622</td>\n",
       "      <td>3.0</td>\n",
       "      <td>222.0</td>\n",
       "      <td>18.7</td>\n",
       "      <td>396.90</td>\n",
       "      <td>5.33</td>\n",
       "      <td>36.2</td>\n",
       "    </tr>\n",
       "  </tbody>\n",
       "</table>\n",
       "</div>"
      ],
      "text/plain": [
       "      CRIM    ZN  INDUS  CHAS    NOX     RM   AGE     DIS  RAD    TAX  \\\n",
       "0  0.00632  18.0   2.31   0.0  0.538  6.575  65.2  4.0900  1.0  296.0   \n",
       "1  0.02731   0.0   7.07   0.0  0.469  6.421  78.9  4.9671  2.0  242.0   \n",
       "2  0.02729   0.0   7.07   0.0  0.469  7.185  61.1  4.9671  2.0  242.0   \n",
       "3  0.03237   0.0   2.18   0.0  0.458  6.998  45.8  6.0622  3.0  222.0   \n",
       "4  0.06905   0.0   2.18   0.0  0.458  7.147  54.2  6.0622  3.0  222.0   \n",
       "\n",
       "   PTRATIO       B  LSTAT  target  \n",
       "0     15.3  396.90   4.98    24.0  \n",
       "1     17.8  396.90   9.14    21.6  \n",
       "2     17.8  392.83   4.03    34.7  \n",
       "3     18.7  394.63   2.94    33.4  \n",
       "4     18.7  396.90   5.33    36.2  "
      ]
     },
     "execution_count": 2,
     "metadata": {},
     "output_type": "execute_result"
    }
   ],
   "source": [
    "# Boston 주택가격 데이터 로드\n",
    "boston_data = load_boston()\n",
    "\n",
    "# Dataframe 형식(독립변수로 구성)\n",
    "df = pd.DataFrame(boston_data['data'], columns=boston_data['feature_names'])\n",
    "                \n",
    "# df에 종속변수 추가\n",
    "df['target'] = boston_data['target']\n",
    "\n",
    "# df의 상위 5개 행 확인\n",
    "df.head()"
   ]
  },
  {
   "cell_type": "code",
   "execution_count": 3,
   "id": "raising-appendix",
   "metadata": {},
   "outputs": [
    {
     "name": "stdout",
     "output_type": "stream",
     "text": [
      "(506, 14)\n",
      "<class 'pandas.core.frame.DataFrame'>\n",
      "RangeIndex: 506 entries, 0 to 505\n",
      "Data columns (total 14 columns):\n",
      " #   Column   Non-Null Count  Dtype  \n",
      "---  ------   --------------  -----  \n",
      " 0   CRIM     506 non-null    float64\n",
      " 1   ZN       506 non-null    float64\n",
      " 2   INDUS    506 non-null    float64\n",
      " 3   CHAS     506 non-null    float64\n",
      " 4   NOX      506 non-null    float64\n",
      " 5   RM       506 non-null    float64\n",
      " 6   AGE      506 non-null    float64\n",
      " 7   DIS      506 non-null    float64\n",
      " 8   RAD      506 non-null    float64\n",
      " 9   TAX      506 non-null    float64\n",
      " 10  PTRATIO  506 non-null    float64\n",
      " 11  B        506 non-null    float64\n",
      " 12  LSTAT    506 non-null    float64\n",
      " 13  target   506 non-null    float64\n",
      "dtypes: float64(14)\n",
      "memory usage: 55.5 KB\n"
     ]
    }
   ],
   "source": [
    "# df 정보 확인 \n",
    "print(df.shape) # 506행 14열\n",
    "df.info() "
   ]
  },
  {
   "cell_type": "markdown",
   "id": "concrete-skill",
   "metadata": {},
   "source": [
    "## 학습, 테스트 데이터 분리"
   ]
  },
  {
   "cell_type": "code",
   "execution_count": 12,
   "id": "swedish-mattress",
   "metadata": {},
   "outputs": [],
   "source": [
    "seed = 2021 # 랜덤 시드 설정\n",
    "\n",
    "# 학습, 테스트 데이터 분리 (0.8:0.2)\n",
    "x_train, x_test, y_train, y_test = train_test_split(df.drop('target', axis=1), df['target'], test_size=0.2, random_state=seed)"
   ]
  },
  {
   "cell_type": "code",
   "execution_count": 13,
   "id": "median-alignment",
   "metadata": {},
   "outputs": [
    {
     "name": "stdout",
     "output_type": "stream",
     "text": [
      "x_train :  (404, 13)\n",
      "x_test :  (102, 13)\n",
      "y_train :  (404,)\n",
      "y_test :  (102,)\n"
     ]
    }
   ],
   "source": [
    "print(\"x_train : \", x_train.shape)\n",
    "print(\"x_test : \", x_test.shape)\n",
    "print(\"y_train : \", y_train.shape)\n",
    "print(\"y_test : \", y_test.shape)"
   ]
  },
  {
   "cell_type": "markdown",
   "id": "olympic-talent",
   "metadata": {},
   "source": [
    "# 3. Linear Regression 모델 구축"
   ]
  },
  {
   "cell_type": "markdown",
   "id": "colonial-blend",
   "metadata": {},
   "source": [
    "## 선형회귀 학습"
   ]
  },
  {
   "cell_type": "code",
   "execution_count": 14,
   "id": "broad-conclusion",
   "metadata": {},
   "outputs": [
    {
     "data": {
      "text/plain": [
       "LinearRegression()"
      ]
     },
     "execution_count": 14,
     "metadata": {},
     "output_type": "execute_result"
    }
   ],
   "source": [
    "base_lr = LinearRegression() # 선형회귀 모델 생성\n",
    "base_lr.fit(x_train, y_train) # 학습데이터로 모델 학습 "
   ]
  },
  {
   "cell_type": "markdown",
   "id": "latest-lawsuit",
   "metadata": {},
   "source": [
    "## 선형회귀 학습 결과"
   ]
  },
  {
   "cell_type": "code",
   "execution_count": 15,
   "id": "greek-horror",
   "metadata": {},
   "outputs": [
    {
     "name": "stdout",
     "output_type": "stream",
     "text": [
      "   features  coefficients\n",
      "4       NOX    -18.135667\n",
      "7       DIS     -1.529967\n",
      "10  PTRATIO     -0.884215\n",
      "12    LSTAT     -0.578169\n",
      "0      CRIM     -0.114557\n",
      "9       TAX     -0.011868\n",
      "2     INDUS      0.003283\n",
      "11        B      0.009528\n",
      "6       AGE      0.011058\n",
      "1        ZN      0.053234\n",
      "8       RAD      0.339221\n",
      "3      CHAS      3.508465\n",
      "5        RM      3.825239\n",
      "intercept :  35.07444644384167\n"
     ]
    }
   ],
   "source": [
    "# 회귀계수\n",
    "print(pd.DataFrame(list(zip(x_train.columns, base_lr.coef_)), columns=['features', 'coefficients']).sort_values('coefficients')) # 독립변수별 계수\n",
    "print(\"intercept : \", base_lr.intercept_) # y절편"
   ]
  },
  {
   "cell_type": "markdown",
   "id": "medieval-shooting",
   "metadata": {},
   "source": [
    "# 4. Ridge/Lasso/ElasticNet 모델 구축 및 학습"
   ]
  },
  {
   "cell_type": "code",
   "execution_count": 16,
   "id": "smaller-cathedral",
   "metadata": {},
   "outputs": [
    {
     "name": "stdout",
     "output_type": "stream",
     "text": [
      "Ridge training score : 0.7539\n",
      "Lasso training score : 0.6976\n",
      "ElasticNet training score : 0.7008\n"
     ]
    }
   ],
   "source": [
    "# alpha : 규제계수\n",
    "# l1_ratio : ElasticNet에서 L1규제 비율\n",
    "\n",
    "ridge = Ridge() # defualt (alpha=1) \n",
    "ridge.fit(x_train, y_train)\n",
    "\n",
    "lasso = Lasso() # deafualt (alpha=1)\n",
    "lasso.fit(x_train, y_train)\n",
    "\n",
    "elnet = ElasticNet() # default (alpha=1, l1_ratio=0.5)\n",
    "elnet.fit(x_train, y_train)\n",
    "\n",
    "print(\"Ridge training score : {0:.4f}\".format(ridge.score(x_train, y_train)))\n",
    "print(\"Lasso training score : {0:.4f}\".format(lasso.score(x_train, y_train)))\n",
    "print(\"ElasticNet training score : {0:.4f}\".format(elnet.score(x_train, y_train)))"
   ]
  },
  {
   "cell_type": "markdown",
   "id": "promotional-breath",
   "metadata": {},
   "source": [
    ">labmda를 default로 학습했을 때, training dataset에 대한 모델의 결정계수는 Ridge모델이 가장 높은 편"
   ]
  },
  {
   "cell_type": "markdown",
   "id": "certain-overhead",
   "metadata": {},
   "source": [
    "# 5. lambda(HyperParameter) 튜닝"
   ]
  },
  {
   "cell_type": "markdown",
   "id": "focused-commission",
   "metadata": {},
   "source": [
    "lambda : 규제계수 (alpha)"
   ]
  },
  {
   "cell_type": "code",
   "execution_count": 17,
   "id": "confused-stephen",
   "metadata": {},
   "outputs": [],
   "source": [
    "alphas = [0, 0.001, 0.01, 0.1, 0.5, 1, 5, 10]"
   ]
  },
  {
   "cell_type": "markdown",
   "id": "attended-pixel",
   "metadata": {},
   "source": [
    "## Ridge"
   ]
  },
  {
   "cell_type": "code",
   "execution_count": 18,
   "id": "julian-runner",
   "metadata": {},
   "outputs": [
    {
     "name": "stdout",
     "output_type": "stream",
     "text": [
      "alpha : 0    ,  training set score:0.756   test set score:0.635   mse:23.300\n",
      "alpha : 0.001,  training set score:0.756   test set score:0.635   mse:23.300\n",
      "alpha : 0.01 ,  training set score:0.756   test set score:0.635   mse:23.298\n",
      "alpha : 0.1  ,  training set score:0.756   test set score:0.635   mse:23.286\n",
      "alpha : 0.5  ,  training set score:0.755   test set score:0.635   mse:23.297\n",
      "alpha : 1    ,  training set score:0.754   test set score:0.634   mse:23.351\n",
      "alpha : 5    ,  training set score:0.748   test set score:0.631   mse:23.560\n",
      "alpha : 10   ,  training set score:0.746   test set score:0.631   mse:23.588\n"
     ]
    },
    {
     "data": {
      "text/html": [
       "<div>\n",
       "<style scoped>\n",
       "    .dataframe tbody tr th:only-of-type {\n",
       "        vertical-align: middle;\n",
       "    }\n",
       "\n",
       "    .dataframe tbody tr th {\n",
       "        vertical-align: top;\n",
       "    }\n",
       "\n",
       "    .dataframe thead th {\n",
       "        text-align: right;\n",
       "    }\n",
       "</style>\n",
       "<table border=\"1\" class=\"dataframe\">\n",
       "  <thead>\n",
       "    <tr style=\"text-align: right;\">\n",
       "      <th></th>\n",
       "      <th>alpha:0</th>\n",
       "      <th>alpha:0.001</th>\n",
       "      <th>alpha:0.01</th>\n",
       "      <th>alpha:0.1</th>\n",
       "      <th>alpha:0.5</th>\n",
       "      <th>alpha:1</th>\n",
       "      <th>alpha:5</th>\n",
       "      <th>alpha:10</th>\n",
       "    </tr>\n",
       "  </thead>\n",
       "  <tbody>\n",
       "    <tr>\n",
       "      <th>CRIM</th>\n",
       "      <td>-0.114557</td>\n",
       "      <td>-0.114550</td>\n",
       "      <td>-0.114485</td>\n",
       "      <td>-0.113890</td>\n",
       "      <td>-0.111991</td>\n",
       "      <td>-0.110586</td>\n",
       "      <td>-0.107752</td>\n",
       "      <td>-0.107352</td>\n",
       "    </tr>\n",
       "    <tr>\n",
       "      <th>ZN</th>\n",
       "      <td>0.053234</td>\n",
       "      <td>0.053237</td>\n",
       "      <td>0.053258</td>\n",
       "      <td>0.053454</td>\n",
       "      <td>0.054111</td>\n",
       "      <td>0.054653</td>\n",
       "      <td>0.056475</td>\n",
       "      <td>0.057641</td>\n",
       "    </tr>\n",
       "    <tr>\n",
       "      <th>INDUS</th>\n",
       "      <td>0.003283</td>\n",
       "      <td>0.003222</td>\n",
       "      <td>0.002670</td>\n",
       "      <td>-0.002440</td>\n",
       "      <td>-0.018812</td>\n",
       "      <td>-0.031064</td>\n",
       "      <td>-0.057480</td>\n",
       "      <td>-0.063037</td>\n",
       "    </tr>\n",
       "    <tr>\n",
       "      <th>CHAS</th>\n",
       "      <td>3.508465</td>\n",
       "      <td>3.507988</td>\n",
       "      <td>3.503723</td>\n",
       "      <td>3.463319</td>\n",
       "      <td>3.319618</td>\n",
       "      <td>3.187558</td>\n",
       "      <td>2.609147</td>\n",
       "      <td>2.188569</td>\n",
       "    </tr>\n",
       "    <tr>\n",
       "      <th>NOX</th>\n",
       "      <td>-18.135667</td>\n",
       "      <td>-18.121435</td>\n",
       "      <td>-17.994345</td>\n",
       "      <td>-16.814950</td>\n",
       "      <td>-13.020290</td>\n",
       "      <td>-10.153697</td>\n",
       "      <td>-3.671043</td>\n",
       "      <td>-2.040157</td>\n",
       "    </tr>\n",
       "    <tr>\n",
       "      <th>RM</th>\n",
       "      <td>3.825239</td>\n",
       "      <td>3.825439</td>\n",
       "      <td>3.827221</td>\n",
       "      <td>3.843512</td>\n",
       "      <td>3.891767</td>\n",
       "      <td>3.920830</td>\n",
       "      <td>3.883883</td>\n",
       "      <td>3.743113</td>\n",
       "    </tr>\n",
       "    <tr>\n",
       "      <th>AGE</th>\n",
       "      <td>0.011058</td>\n",
       "      <td>0.011044</td>\n",
       "      <td>0.010921</td>\n",
       "      <td>0.009776</td>\n",
       "      <td>0.006143</td>\n",
       "      <td>0.003483</td>\n",
       "      <td>-0.001390</td>\n",
       "      <td>-0.001211</td>\n",
       "    </tr>\n",
       "    <tr>\n",
       "      <th>DIS</th>\n",
       "      <td>-1.529967</td>\n",
       "      <td>-1.529771</td>\n",
       "      <td>-1.528021</td>\n",
       "      <td>-1.511776</td>\n",
       "      <td>-1.459564</td>\n",
       "      <td>-1.420204</td>\n",
       "      <td>-1.331619</td>\n",
       "      <td>-1.308380</td>\n",
       "    </tr>\n",
       "    <tr>\n",
       "      <th>RAD</th>\n",
       "      <td>0.339221</td>\n",
       "      <td>0.339190</td>\n",
       "      <td>0.338906</td>\n",
       "      <td>0.336287</td>\n",
       "      <td>0.328043</td>\n",
       "      <td>0.322137</td>\n",
       "      <td>0.312928</td>\n",
       "      <td>0.315349</td>\n",
       "    </tr>\n",
       "    <tr>\n",
       "      <th>TAX</th>\n",
       "      <td>-0.011868</td>\n",
       "      <td>-0.011869</td>\n",
       "      <td>-0.011878</td>\n",
       "      <td>-0.011964</td>\n",
       "      <td>-0.012248</td>\n",
       "      <td>-0.012476</td>\n",
       "      <td>-0.013171</td>\n",
       "      <td>-0.013547</td>\n",
       "    </tr>\n",
       "    <tr>\n",
       "      <th>PTRATIO</th>\n",
       "      <td>-0.884215</td>\n",
       "      <td>-0.884037</td>\n",
       "      <td>-0.882450</td>\n",
       "      <td>-0.867740</td>\n",
       "      <td>-0.820804</td>\n",
       "      <td>-0.786028</td>\n",
       "      <td>-0.715919</td>\n",
       "      <td>-0.707545</td>\n",
       "    </tr>\n",
       "    <tr>\n",
       "      <th>B</th>\n",
       "      <td>0.009528</td>\n",
       "      <td>0.009529</td>\n",
       "      <td>0.009538</td>\n",
       "      <td>0.009622</td>\n",
       "      <td>0.009890</td>\n",
       "      <td>0.010090</td>\n",
       "      <td>0.010492</td>\n",
       "      <td>0.010523</td>\n",
       "    </tr>\n",
       "    <tr>\n",
       "      <th>LSTAT</th>\n",
       "      <td>-0.578169</td>\n",
       "      <td>-0.578185</td>\n",
       "      <td>-0.578326</td>\n",
       "      <td>-0.579658</td>\n",
       "      <td>-0.584335</td>\n",
       "      <td>-0.588553</td>\n",
       "      <td>-0.607261</td>\n",
       "      <td>-0.623086</td>\n",
       "    </tr>\n",
       "  </tbody>\n",
       "</table>\n",
       "</div>"
      ],
      "text/plain": [
       "           alpha:0  alpha:0.001  alpha:0.01  alpha:0.1  alpha:0.5    alpha:1  \\\n",
       "CRIM     -0.114557    -0.114550   -0.114485  -0.113890  -0.111991  -0.110586   \n",
       "ZN        0.053234     0.053237    0.053258   0.053454   0.054111   0.054653   \n",
       "INDUS     0.003283     0.003222    0.002670  -0.002440  -0.018812  -0.031064   \n",
       "CHAS      3.508465     3.507988    3.503723   3.463319   3.319618   3.187558   \n",
       "NOX     -18.135667   -18.121435  -17.994345 -16.814950 -13.020290 -10.153697   \n",
       "RM        3.825239     3.825439    3.827221   3.843512   3.891767   3.920830   \n",
       "AGE       0.011058     0.011044    0.010921   0.009776   0.006143   0.003483   \n",
       "DIS      -1.529967    -1.529771   -1.528021  -1.511776  -1.459564  -1.420204   \n",
       "RAD       0.339221     0.339190    0.338906   0.336287   0.328043   0.322137   \n",
       "TAX      -0.011868    -0.011869   -0.011878  -0.011964  -0.012248  -0.012476   \n",
       "PTRATIO  -0.884215    -0.884037   -0.882450  -0.867740  -0.820804  -0.786028   \n",
       "B         0.009528     0.009529    0.009538   0.009622   0.009890   0.010090   \n",
       "LSTAT    -0.578169    -0.578185   -0.578326  -0.579658  -0.584335  -0.588553   \n",
       "\n",
       "          alpha:5  alpha:10  \n",
       "CRIM    -0.107752 -0.107352  \n",
       "ZN       0.056475  0.057641  \n",
       "INDUS   -0.057480 -0.063037  \n",
       "CHAS     2.609147  2.188569  \n",
       "NOX     -3.671043 -2.040157  \n",
       "RM       3.883883  3.743113  \n",
       "AGE     -0.001390 -0.001211  \n",
       "DIS     -1.331619 -1.308380  \n",
       "RAD      0.312928  0.315349  \n",
       "TAX     -0.013171 -0.013547  \n",
       "PTRATIO -0.715919 -0.707545  \n",
       "B        0.010492  0.010523  \n",
       "LSTAT   -0.607261 -0.623086  "
      ]
     },
     "execution_count": 18,
     "metadata": {},
     "output_type": "execute_result"
    }
   ],
   "source": [
    "df_ridge_coeff = pd.DataFrame()\n",
    "ridge_mse = list()\n",
    "\n",
    "for alpha in alphas:\n",
    "    ridge = Ridge(alpha=alpha)\n",
    "    ridge.fit(x_train, y_train) # 학습\n",
    "    y_pred = ridge.predict(x_test) # 예측\n",
    "    mse = mean_squared_error(y_test, y_pred) #MSE\n",
    "    ridge_mse.append(mse)\n",
    "    score_train = ridge.score(x_train, y_train) # 훈련set에 대한 결정계수\n",
    "    score_test = ridge.score(x_test, y_test) # 테스트set에 대한 결정계수\n",
    "\n",
    "    print(\"alpha : {0:<5},  training set score:{1:.3f}   test set score:{2:.3f}   mse:{3:.3f}\".format(alpha, score_train, score_test, mse))\n",
    "   \n",
    "    df_ridge_coeff['alpha:'+str(alpha)] = pd.Series(data=ridge.coef_, index=x_train.columns)\n",
    "    \n",
    "df_ridge_coeff\n",
    "    "
   ]
  },
  {
   "cell_type": "code",
   "execution_count": 19,
   "id": "organizational-script",
   "metadata": {},
   "outputs": [
    {
     "data": {
      "image/png": "[encoded data removed]",
      "text/plain": [
       "<Figure size 504x360 with 8 Axes>"
      ]
     },
     "metadata": {
      "needs_background": "light"
     },
     "output_type": "display_data"
    }
   ],
   "source": [
    "# alpha별 coff dataframe을 barchart로 시각화\n",
    "plt.figure(figsize=(7,5)) # plot크기 설정\n",
    "\n",
    "for index, alpha in enumerate(alphas):\n",
    "    plt.subplot(2,4,index+1)\n",
    "    plt.barh(df_ridge_coeff.sort_values('alpha:'+str(alpha), ascending=False).reset_index()['index'], df_ridge_coeff.sort_values('alpha:'+str(alpha) ,ascending=False)['alpha:'+str(alpha)])\n",
    "    plt.title(\"alpha=\"+str(alpha)) #제목\n",
    "    plt.xlabel('coeff') #x축 라벨\n",
    "    plt.ylabel('feature') #y축 라벨\n",
    "\n",
    "plt.subplots_adjust(left=2, right=4, top=1.5, hspace=0.4) #subplot간 간격 조절"
   ]
  },
  {
   "cell_type": "markdown",
   "id": "persistent-scale",
   "metadata": {},
   "source": [
    ">Ridge의 경우, alpha=0.1에서 최적"
   ]
  },
  {
   "cell_type": "markdown",
   "id": "interesting-recipe",
   "metadata": {},
   "source": [
    "## Lasso"
   ]
  },
  {
   "cell_type": "code",
   "execution_count": 29,
   "id": "different-wrapping",
   "metadata": {},
   "outputs": [
    {
     "name": "stdout",
     "output_type": "stream",
     "text": [
      "alpha : 0    ,  training set score:0.756   test set score:0.635   mse:23.300\n",
      "alpha : 0.001,  training set score:0.756   test set score:0.635   mse:23.289\n",
      "alpha : 0.01 ,  training set score:0.756   test set score:0.637   mse:23.216\n",
      "alpha : 0.1  ,  training set score:0.742   test set score:0.630   mse:23.659\n",
      "alpha : 0.5  ,  training set score:0.728   test set score:0.627   mse:23.826\n",
      "alpha : 1    ,  training set score:0.698   test set score:0.596   mse:25.819\n",
      "alpha : 5    ,  training set score:0.582   test set score:0.512   mse:31.158\n",
      "alpha : 10   ,  training set score:0.539   test set score:0.525   mse:30.342\n"
     ]
    },
    {
     "data": {
      "text/html": [
       "<div>\n",
       "<style scoped>\n",
       "    .dataframe tbody tr th:only-of-type {\n",
       "        vertical-align: middle;\n",
       "    }\n",
       "\n",
       "    .dataframe tbody tr th {\n",
       "        vertical-align: top;\n",
       "    }\n",
       "\n",
       "    .dataframe thead th {\n",
       "        text-align: right;\n",
       "    }\n",
       "</style>\n",
       "<table border=\"1\" class=\"dataframe\">\n",
       "  <thead>\n",
       "    <tr style=\"text-align: right;\">\n",
       "      <th></th>\n",
       "      <th>alpha:0</th>\n",
       "      <th>alpha:0.001</th>\n",
       "      <th>alpha:0.01</th>\n",
       "      <th>alpha:0.1</th>\n",
       "      <th>alpha:0.5</th>\n",
       "      <th>alpha:1</th>\n",
       "      <th>alpha:5</th>\n",
       "      <th>alpha:10</th>\n",
       "    </tr>\n",
       "  </thead>\n",
       "  <tbody>\n",
       "    <tr>\n",
       "      <th>CRIM</th>\n",
       "      <td>-0.114557</td>\n",
       "      <td>-0.114377</td>\n",
       "      <td>-0.112723</td>\n",
       "      <td>-0.103673</td>\n",
       "      <td>-0.090771</td>\n",
       "      <td>-0.072868</td>\n",
       "      <td>-0.000000</td>\n",
       "      <td>-0.000000</td>\n",
       "    </tr>\n",
       "    <tr>\n",
       "      <th>ZN</th>\n",
       "      <td>0.053234</td>\n",
       "      <td>0.053292</td>\n",
       "      <td>0.053837</td>\n",
       "      <td>0.057183</td>\n",
       "      <td>0.059207</td>\n",
       "      <td>0.060763</td>\n",
       "      <td>0.046520</td>\n",
       "      <td>0.031696</td>\n",
       "    </tr>\n",
       "    <tr>\n",
       "      <th>INDUS</th>\n",
       "      <td>0.003283</td>\n",
       "      <td>0.001881</td>\n",
       "      <td>-0.009066</td>\n",
       "      <td>-0.056677</td>\n",
       "      <td>-0.018462</td>\n",
       "      <td>-0.000000</td>\n",
       "      <td>-0.000000</td>\n",
       "      <td>-0.000000</td>\n",
       "    </tr>\n",
       "    <tr>\n",
       "      <th>CHAS</th>\n",
       "      <td>3.508465</td>\n",
       "      <td>3.483955</td>\n",
       "      <td>3.261236</td>\n",
       "      <td>1.360602</td>\n",
       "      <td>0.000000</td>\n",
       "      <td>0.000000</td>\n",
       "      <td>0.000000</td>\n",
       "      <td>0.000000</td>\n",
       "    </tr>\n",
       "    <tr>\n",
       "      <th>NOX</th>\n",
       "      <td>-18.135667</td>\n",
       "      <td>-17.806571</td>\n",
       "      <td>-14.873198</td>\n",
       "      <td>-0.000000</td>\n",
       "      <td>-0.000000</td>\n",
       "      <td>-0.000000</td>\n",
       "      <td>0.000000</td>\n",
       "      <td>0.000000</td>\n",
       "    </tr>\n",
       "    <tr>\n",
       "      <th>RM</th>\n",
       "      <td>3.825239</td>\n",
       "      <td>3.827513</td>\n",
       "      <td>3.848649</td>\n",
       "      <td>3.815167</td>\n",
       "      <td>2.557393</td>\n",
       "      <td>0.953434</td>\n",
       "      <td>0.000000</td>\n",
       "      <td>0.000000</td>\n",
       "    </tr>\n",
       "    <tr>\n",
       "      <th>AGE</th>\n",
       "      <td>0.011058</td>\n",
       "      <td>0.010784</td>\n",
       "      <td>0.008316</td>\n",
       "      <td>-0.000994</td>\n",
       "      <td>0.014548</td>\n",
       "      <td>0.033638</td>\n",
       "      <td>0.045891</td>\n",
       "      <td>0.006171</td>\n",
       "    </tr>\n",
       "    <tr>\n",
       "      <th>DIS</th>\n",
       "      <td>-1.529967</td>\n",
       "      <td>-1.525143</td>\n",
       "      <td>-1.480458</td>\n",
       "      <td>-1.229727</td>\n",
       "      <td>-1.003764</td>\n",
       "      <td>-0.717474</td>\n",
       "      <td>-0.000000</td>\n",
       "      <td>-0.000000</td>\n",
       "    </tr>\n",
       "    <tr>\n",
       "      <th>RAD</th>\n",
       "      <td>0.339221</td>\n",
       "      <td>0.338515</td>\n",
       "      <td>0.332684</td>\n",
       "      <td>0.308078</td>\n",
       "      <td>0.318013</td>\n",
       "      <td>0.314801</td>\n",
       "      <td>0.000000</td>\n",
       "      <td>0.000000</td>\n",
       "    </tr>\n",
       "    <tr>\n",
       "      <th>TAX</th>\n",
       "      <td>-0.011868</td>\n",
       "      <td>-0.011893</td>\n",
       "      <td>-0.012162</td>\n",
       "      <td>-0.013845</td>\n",
       "      <td>-0.015152</td>\n",
       "      <td>-0.015775</td>\n",
       "      <td>-0.006157</td>\n",
       "      <td>-0.007893</td>\n",
       "    </tr>\n",
       "    <tr>\n",
       "      <th>PTRATIO</th>\n",
       "      <td>-0.884215</td>\n",
       "      <td>-0.880238</td>\n",
       "      <td>-0.844999</td>\n",
       "      <td>-0.677210</td>\n",
       "      <td>-0.672685</td>\n",
       "      <td>-0.634471</td>\n",
       "      <td>-0.000000</td>\n",
       "      <td>-0.000000</td>\n",
       "    </tr>\n",
       "    <tr>\n",
       "      <th>B</th>\n",
       "      <td>0.009528</td>\n",
       "      <td>0.009551</td>\n",
       "      <td>0.009754</td>\n",
       "      <td>0.010733</td>\n",
       "      <td>0.009801</td>\n",
       "      <td>0.008421</td>\n",
       "      <td>0.006230</td>\n",
       "      <td>0.007327</td>\n",
       "    </tr>\n",
       "    <tr>\n",
       "      <th>LSTAT</th>\n",
       "      <td>-0.578169</td>\n",
       "      <td>-0.578782</td>\n",
       "      <td>-0.584431</td>\n",
       "      <td>-0.629671</td>\n",
       "      <td>-0.728411</td>\n",
       "      <td>-0.840061</td>\n",
       "      <td>-0.821296</td>\n",
       "      <td>-0.619653</td>\n",
       "    </tr>\n",
       "  </tbody>\n",
       "</table>\n",
       "</div>"
      ],
      "text/plain": [
       "           alpha:0  alpha:0.001  alpha:0.01  alpha:0.1  alpha:0.5   alpha:1  \\\n",
       "CRIM     -0.114557    -0.114377   -0.112723  -0.103673  -0.090771 -0.072868   \n",
       "ZN        0.053234     0.053292    0.053837   0.057183   0.059207  0.060763   \n",
       "INDUS     0.003283     0.001881   -0.009066  -0.056677  -0.018462 -0.000000   \n",
       "CHAS      3.508465     3.483955    3.261236   1.360602   0.000000  0.000000   \n",
       "NOX     -18.135667   -17.806571  -14.873198  -0.000000  -0.000000 -0.000000   \n",
       "RM        3.825239     3.827513    3.848649   3.815167   2.557393  0.953434   \n",
       "AGE       0.011058     0.010784    0.008316  -0.000994   0.014548  0.033638   \n",
       "DIS      -1.529967    -1.525143   -1.480458  -1.229727  -1.003764 -0.717474   \n",
       "RAD       0.339221     0.338515    0.332684   0.308078   0.318013  0.314801   \n",
       "TAX      -0.011868    -0.011893   -0.012162  -0.013845  -0.015152 -0.015775   \n",
       "PTRATIO  -0.884215    -0.880238   -0.844999  -0.677210  -0.672685 -0.634471   \n",
       "B         0.009528     0.009551    0.009754   0.010733   0.009801  0.008421   \n",
       "LSTAT    -0.578169    -0.578782   -0.584431  -0.629671  -0.728411 -0.840061   \n",
       "\n",
       "          alpha:5  alpha:10  \n",
       "CRIM    -0.000000 -0.000000  \n",
       "ZN       0.046520  0.031696  \n",
       "INDUS   -0.000000 -0.000000  \n",
       "CHAS     0.000000  0.000000  \n",
       "NOX      0.000000  0.000000  \n",
       "RM       0.000000  0.000000  \n",
       "AGE      0.045891  0.006171  \n",
       "DIS     -0.000000 -0.000000  \n",
       "RAD      0.000000  0.000000  \n",
       "TAX     -0.006157 -0.007893  \n",
       "PTRATIO -0.000000 -0.000000  \n",
       "B        0.006230  0.007327  \n",
       "LSTAT   -0.821296 -0.619653  "
      ]
     },
     "execution_count": 29,
     "metadata": {},
     "output_type": "execute_result"
    }
   ],
   "source": [
    "df_lasso_coeff = pd.DataFrame()\n",
    "lasso_mse = list()\n",
    "\n",
    "for alpha in alphas:\n",
    "    lasso = Lasso(alpha=alpha)\n",
    "    lasso.fit(x_train, y_train)\n",
    "    y_pred = lasso.predict(x_test)\n",
    "    mse = mean_squared_error(y_test, y_pred)\n",
    "    lasso_mse.append(mse)\n",
    "    score_train = lasso.score(x_train, y_train) # 훈련set에 대한 결정계수\n",
    "    score_test = lasso.score(x_test, y_test) # 테스트set에 대한 결정계수\n",
    "    \n",
    "    print(\"alpha : {0:<5},  training set score:{1:.3f}   test set score:{2:.3f}   mse:{3:.3f}\".format(alpha, score_train, score_test, mse))\n",
    "    \n",
    "    df_lasso_coeff['alpha:'+str(alpha)] = pd.Series(data=lasso.coef_, index=x_train.columns)\n",
    "    \n",
    "df_lasso_coeff\n",
    "    "
   ]
  },
  {
   "cell_type": "code",
   "execution_count": 30,
   "id": "flying-sixth",
   "metadata": {},
   "outputs": [
    {
     "data": {
      "image/png": "[encoded data removed]",
      "text/plain": [
       "<Figure size 504x360 with 8 Axes>"
      ]
     },
     "metadata": {
      "needs_background": "light"
     },
     "output_type": "display_data"
    }
   ],
   "source": [
    "# alpha별 coff dataframe을 barchart로 시각화\n",
    "plt.figure(figsize=(7,5)) # plot크기 설정\n",
    "\n",
    "for index, alpha in enumerate(alphas):\n",
    "    plt.subplot(2,4,index+1)\n",
    "    plt.barh(df_lasso_coeff.sort_values('alpha:'+str(alpha), ascending=False).reset_index()['index'], df_lasso_coeff.sort_values('alpha:'+str(alpha) ,ascending=False)['alpha:'+str(alpha)])\n",
    "    plt.title(\"alpha=\"+str(alpha)) #제목\n",
    "    plt.xlabel('coeff') #x축 라벨\n",
    "    plt.ylabel('feature') #y축 라벨\n",
    "\n",
    "plt.subplots_adjust(left=2, right=4, top=1.5, hspace=0.4) #subplot간 간격 조절"
   ]
  },
  {
   "cell_type": "markdown",
   "id": "transparent-screw",
   "metadata": {},
   "source": [
    "> Lasso의 경우, alpha=0.01에서 최적"
   ]
  },
  {
   "cell_type": "markdown",
   "id": "powered-yahoo",
   "metadata": {},
   "source": [
    "## ElasticNet"
   ]
  },
  {
   "cell_type": "code",
   "execution_count": 31,
   "id": "human-judge",
   "metadata": {},
   "outputs": [
    {
     "name": "stdout",
     "output_type": "stream",
     "text": [
      "alpha : 0    ,  training set score:0.756   test set score:0.635   mse:23.300\n",
      "alpha : 0.001,  training set score:0.756   test set score:0.636   mse:23.278\n",
      "alpha : 0.01 ,  training set score:0.751   test set score:0.633   mse:23.451\n",
      "alpha : 0.1  ,  training set score:0.741   test set score:0.630   mse:23.647\n",
      "alpha : 0.5  ,  training set score:0.720   test set score:0.615   mse:24.619\n",
      "alpha : 1    ,  training set score:0.701   test set score:0.596   mse:25.801\n",
      "alpha : 5    ,  training set score:0.613   test set score:0.529   mse:30.104\n",
      "alpha : 10   ,  training set score:0.561   test set score:0.524   mse:30.387\n"
     ]
    },
    {
     "data": {
      "text/html": [
       "<div>\n",
       "<style scoped>\n",
       "    .dataframe tbody tr th:only-of-type {\n",
       "        vertical-align: middle;\n",
       "    }\n",
       "\n",
       "    .dataframe tbody tr th {\n",
       "        vertical-align: top;\n",
       "    }\n",
       "\n",
       "    .dataframe thead th {\n",
       "        text-align: right;\n",
       "    }\n",
       "</style>\n",
       "<table border=\"1\" class=\"dataframe\">\n",
       "  <thead>\n",
       "    <tr style=\"text-align: right;\">\n",
       "      <th></th>\n",
       "      <th>alpha:0</th>\n",
       "      <th>alpha:0.001</th>\n",
       "      <th>alpha:0.01</th>\n",
       "      <th>alpha:0.1</th>\n",
       "      <th>alpha:0.5</th>\n",
       "      <th>alpha:1</th>\n",
       "      <th>alpha:5</th>\n",
       "      <th>alpha:10</th>\n",
       "    </tr>\n",
       "  </thead>\n",
       "  <tbody>\n",
       "    <tr>\n",
       "      <th>CRIM</th>\n",
       "      <td>-0.114557</td>\n",
       "      <td>-0.113224</td>\n",
       "      <td>-0.108699</td>\n",
       "      <td>-0.105592</td>\n",
       "      <td>-0.097922</td>\n",
       "      <td>-0.086990</td>\n",
       "      <td>-0.027119</td>\n",
       "      <td>-0.000000</td>\n",
       "    </tr>\n",
       "    <tr>\n",
       "      <th>ZN</th>\n",
       "      <td>0.053234</td>\n",
       "      <td>0.053677</td>\n",
       "      <td>0.055499</td>\n",
       "      <td>0.059732</td>\n",
       "      <td>0.063846</td>\n",
       "      <td>0.063407</td>\n",
       "      <td>0.051541</td>\n",
       "      <td>0.048578</td>\n",
       "    </tr>\n",
       "    <tr>\n",
       "      <th>INDUS</th>\n",
       "      <td>0.003283</td>\n",
       "      <td>-0.007990</td>\n",
       "      <td>-0.046114</td>\n",
       "      <td>-0.062839</td>\n",
       "      <td>-0.042092</td>\n",
       "      <td>-0.019458</td>\n",
       "      <td>-0.000000</td>\n",
       "      <td>-0.000000</td>\n",
       "    </tr>\n",
       "    <tr>\n",
       "      <th>CHAS</th>\n",
       "      <td>3.508465</td>\n",
       "      <td>3.410062</td>\n",
       "      <td>2.898378</td>\n",
       "      <td>1.198444</td>\n",
       "      <td>0.000000</td>\n",
       "      <td>0.000000</td>\n",
       "      <td>0.000000</td>\n",
       "      <td>0.000000</td>\n",
       "    </tr>\n",
       "    <tr>\n",
       "      <th>NOX</th>\n",
       "      <td>-18.135667</td>\n",
       "      <td>-15.511230</td>\n",
       "      <td>-6.373856</td>\n",
       "      <td>-0.110019</td>\n",
       "      <td>-0.000000</td>\n",
       "      <td>-0.000000</td>\n",
       "      <td>-0.000000</td>\n",
       "      <td>0.000000</td>\n",
       "    </tr>\n",
       "    <tr>\n",
       "      <th>RM</th>\n",
       "      <td>3.825239</td>\n",
       "      <td>3.859874</td>\n",
       "      <td>3.930686</td>\n",
       "      <td>3.340980</td>\n",
       "      <td>1.748630</td>\n",
       "      <td>0.939394</td>\n",
       "      <td>0.000000</td>\n",
       "      <td>0.000000</td>\n",
       "    </tr>\n",
       "    <tr>\n",
       "      <th>AGE</th>\n",
       "      <td>0.011058</td>\n",
       "      <td>0.008539</td>\n",
       "      <td>0.000382</td>\n",
       "      <td>0.002112</td>\n",
       "      <td>0.021213</td>\n",
       "      <td>0.033383</td>\n",
       "      <td>0.054174</td>\n",
       "      <td>0.031446</td>\n",
       "    </tr>\n",
       "    <tr>\n",
       "      <th>DIS</th>\n",
       "      <td>-1.529967</td>\n",
       "      <td>-1.493598</td>\n",
       "      <td>-1.366113</td>\n",
       "      <td>-1.250302</td>\n",
       "      <td>-1.039637</td>\n",
       "      <td>-0.798261</td>\n",
       "      <td>-0.000000</td>\n",
       "      <td>-0.000000</td>\n",
       "    </tr>\n",
       "    <tr>\n",
       "      <th>RAD</th>\n",
       "      <td>0.339221</td>\n",
       "      <td>0.333451</td>\n",
       "      <td>0.315408</td>\n",
       "      <td>0.323165</td>\n",
       "      <td>0.349696</td>\n",
       "      <td>0.344586</td>\n",
       "      <td>0.156943</td>\n",
       "      <td>0.000000</td>\n",
       "    </tr>\n",
       "    <tr>\n",
       "      <th>TAX</th>\n",
       "      <td>-0.011868</td>\n",
       "      <td>-0.012063</td>\n",
       "      <td>-0.012836</td>\n",
       "      <td>-0.014323</td>\n",
       "      <td>-0.015963</td>\n",
       "      <td>-0.016452</td>\n",
       "      <td>-0.011748</td>\n",
       "      <td>-0.007707</td>\n",
       "    </tr>\n",
       "    <tr>\n",
       "      <th>PTRATIO</th>\n",
       "      <td>-0.884215</td>\n",
       "      <td>-0.851605</td>\n",
       "      <td>-0.742363</td>\n",
       "      <td>-0.704899</td>\n",
       "      <td>-0.723787</td>\n",
       "      <td>-0.673269</td>\n",
       "      <td>-0.201183</td>\n",
       "      <td>-0.000000</td>\n",
       "    </tr>\n",
       "    <tr>\n",
       "      <th>B</th>\n",
       "      <td>0.009528</td>\n",
       "      <td>0.009714</td>\n",
       "      <td>0.010341</td>\n",
       "      <td>0.010415</td>\n",
       "      <td>0.009263</td>\n",
       "      <td>0.008535</td>\n",
       "      <td>0.007185</td>\n",
       "      <td>0.007401</td>\n",
       "    </tr>\n",
       "    <tr>\n",
       "      <th>LSTAT</th>\n",
       "      <td>-0.578169</td>\n",
       "      <td>-0.581313</td>\n",
       "      <td>-0.596972</td>\n",
       "      <td>-0.662040</td>\n",
       "      <td>-0.781231</td>\n",
       "      <td>-0.834777</td>\n",
       "      <td>-0.821856</td>\n",
       "      <td>-0.689895</td>\n",
       "    </tr>\n",
       "  </tbody>\n",
       "</table>\n",
       "</div>"
      ],
      "text/plain": [
       "           alpha:0  alpha:0.001  alpha:0.01  alpha:0.1  alpha:0.5   alpha:1  \\\n",
       "CRIM     -0.114557    -0.113224   -0.108699  -0.105592  -0.097922 -0.086990   \n",
       "ZN        0.053234     0.053677    0.055499   0.059732   0.063846  0.063407   \n",
       "INDUS     0.003283    -0.007990   -0.046114  -0.062839  -0.042092 -0.019458   \n",
       "CHAS      3.508465     3.410062    2.898378   1.198444   0.000000  0.000000   \n",
       "NOX     -18.135667   -15.511230   -6.373856  -0.110019  -0.000000 -0.000000   \n",
       "RM        3.825239     3.859874    3.930686   3.340980   1.748630  0.939394   \n",
       "AGE       0.011058     0.008539    0.000382   0.002112   0.021213  0.033383   \n",
       "DIS      -1.529967    -1.493598   -1.366113  -1.250302  -1.039637 -0.798261   \n",
       "RAD       0.339221     0.333451    0.315408   0.323165   0.349696  0.344586   \n",
       "TAX      -0.011868    -0.012063   -0.012836  -0.014323  -0.015963 -0.016452   \n",
       "PTRATIO  -0.884215    -0.851605   -0.742363  -0.704899  -0.723787 -0.673269   \n",
       "B         0.009528     0.009714    0.010341   0.010415   0.009263  0.008535   \n",
       "LSTAT    -0.578169    -0.581313   -0.596972  -0.662040  -0.781231 -0.834777   \n",
       "\n",
       "          alpha:5  alpha:10  \n",
       "CRIM    -0.027119 -0.000000  \n",
       "ZN       0.051541  0.048578  \n",
       "INDUS   -0.000000 -0.000000  \n",
       "CHAS     0.000000  0.000000  \n",
       "NOX     -0.000000  0.000000  \n",
       "RM       0.000000  0.000000  \n",
       "AGE      0.054174  0.031446  \n",
       "DIS     -0.000000 -0.000000  \n",
       "RAD      0.156943  0.000000  \n",
       "TAX     -0.011748 -0.007707  \n",
       "PTRATIO -0.201183 -0.000000  \n",
       "B        0.007185  0.007401  \n",
       "LSTAT   -0.821856 -0.689895  "
      ]
     },
     "execution_count": 31,
     "metadata": {},
     "output_type": "execute_result"
    }
   ],
   "source": [
    "df_elnet_coeff = pd.DataFrame()\n",
    "elnet_mse =  list()\n",
    "\n",
    "for alpha in alphas:\n",
    "    elnet = ElasticNet(alpha=alpha, l1_ratio=0.5)\n",
    "    elnet.fit(x_train, y_train)\n",
    "    y_pred = elnet.predict(x_test)\n",
    "    mse = mean_squared_error(y_test, y_pred)\n",
    "    elnet_mse.append(mse)\n",
    "\n",
    "    score_train = elnet.score(x_train, y_train) # 훈련set에 대한 결정계수\n",
    "    score_test = elnet.score(x_test, y_test) # 테스트set에 대한 결정계수\n",
    "\n",
    "    print(\"alpha : {0:<5},  training set score:{1:.3f}   test set score:{2:.3f}   mse:{3:.3f}\".format(alpha, score_train, score_test, mse))\n",
    "        \n",
    "    df_elnet_coeff['alpha:'+str(alpha)] = pd.Series(data=elnet.coef_, index=x_train.columns)\n",
    "    \n",
    "df_elnet_coeff\n",
    "    "
   ]
  },
  {
   "cell_type": "code",
   "execution_count": 32,
   "id": "nervous-vacuum",
   "metadata": {},
   "outputs": [
    {
     "data": {
      "image/png": "[encoded data removed]",
      "text/plain": [
       "<Figure size 504x360 with 8 Axes>"
      ]
     },
     "metadata": {
      "needs_background": "light"
     },
     "output_type": "display_data"
    }
   ],
   "source": [
    "# alpha별 coff dataframe을 barchart로 시각화\n",
    "plt.figure(figsize=(7,5)) # plot크기 설정\n",
    "\n",
    "for index, alpha in enumerate(alphas):\n",
    "    plt.subplot(2,4,index+1)\n",
    "    plt.barh(df_elnet_coeff.sort_values('alpha:'+str(alpha), ascending=False).reset_index()['index'], df_elnet_coeff.sort_values('alpha:'+str(alpha) ,ascending=False)['alpha:'+str(alpha)])\n",
    "    plt.title(\"alpha=\"+str(alpha)) #제목\n",
    "    plt.xlabel('coeff') #x축 라벨\n",
    "    plt.ylabel('feature') #y축 라벨\n",
    "\n",
    "plt.subplots_adjust(left=2, right=4, top=1.5, hspace=0.4) #subplot간 간격 조절"
   ]
  },
  {
   "cell_type": "markdown",
   "id": "analyzed-index",
   "metadata": {},
   "source": [
    "> ElasticNet의 경우, alpha=0.001에서 최적"
   ]
  },
  {
   "cell_type": "markdown",
   "id": "brown-french",
   "metadata": {},
   "source": [
    "# 6. 각 모델의 solution path 차트"
   ]
  },
  {
   "cell_type": "markdown",
   "id": "oriented-indonesian",
   "metadata": {},
   "source": [
    "## 회귀계수"
   ]
  },
  {
   "cell_type": "code",
   "execution_count": 24,
   "id": "bacterial-resistance",
   "metadata": {},
   "outputs": [
    {
     "data": {
      "image/png": "[encoded data removed]",
      "text/plain": [
       "<Figure size 1440x360 with 3 Axes>"
      ]
     },
     "metadata": {
      "needs_background": "light"
     },
     "output_type": "display_data"
    }
   ],
   "source": [
    "plt.figure(figsize=(20,5)) # plot크기 설정\n",
    "\n",
    "# Ridge \n",
    "df_ridge_coeff.columns=alphas\n",
    "plt.subplot(1,3,1)\n",
    "plt.plot(df_ridge_coeff.T)\n",
    "plt.xticks(alphas)\n",
    "plt.xlabel('lambda')\n",
    "plt.ylabel('coefficient')\n",
    "plt.title('Ridge')\n",
    "\n",
    "# Lasso \n",
    "df_lasso_coeff.columns=alphas\n",
    "plt.subplot(1,3,2)\n",
    "plt.plot(df_lasso_coeff.T)\n",
    "plt.xticks(alphas)\n",
    "plt.xlabel('lambda')\n",
    "plt.ylabel('coefficient')\n",
    "plt.title('Lasso')\n",
    "\n",
    "# ElasticNet\n",
    "df_elnet_coeff.columns=alphas\n",
    "plt.subplot(1,3,3)\n",
    "plt.plot(df_elnet_coeff.T)\n",
    "plt.xticks(alphas)\n",
    "plt.xlabel('lambda')\n",
    "plt.ylabel('coefficient')\n",
    "plt.title('ElasticNet')\n",
    "\n",
    "plt.legend(df_elnet_coeff.index, loc='best') # 범례\n",
    "\n",
    "plt.show()"
   ]
  },
  {
   "cell_type": "markdown",
   "id": "descending-tongue",
   "metadata": {},
   "source": [
    "## MSE"
   ]
  },
  {
   "cell_type": "code",
   "execution_count": 25,
   "id": "placed-client",
   "metadata": {},
   "outputs": [
    {
     "data": {
      "image/png": "[encoded data removed]",
      "text/plain": [
       "<Figure size 1440x360 with 3 Axes>"
      ]
     },
     "metadata": {
      "needs_background": "light"
     },
     "output_type": "display_data"
    }
   ],
   "source": [
    "plt.figure(figsize=(20,5)) # plot크기 설정\n",
    "\n",
    "# Ridge \n",
    "plt.subplot(1,3,1)\n",
    "plt.plot(alphas, ridge_mse)\n",
    "plt.xticks(alphas)\n",
    "plt.xlabel('lambda')\n",
    "plt.ylim(23,32)\n",
    "plt.ylabel('MSE')\n",
    "\n",
    "plt.title('Ridge')\n",
    "\n",
    "# Lasso \n",
    "df_lasso_coeff.columns=alphas\n",
    "plt.subplot(1,3,2)\n",
    "plt.plot(alphas, lasso_mse)\n",
    "plt.xticks(alphas)\n",
    "plt.xlabel('lambda')\n",
    "plt.ylabel('MSE')\n",
    "plt.ylim(23,32)\n",
    "plt.title('Lasso')\n",
    "\n",
    "# ElasticNet\n",
    "df_elnet_coeff.columns=alphas\n",
    "plt.subplot(1,3,3)\n",
    "plt.plot(alphas, elnet_mse)\n",
    "plt.xticks(alphas)\n",
    "plt.xlabel('lambda')\n",
    "plt.ylabel('MSE')\n",
    "plt.ylim(23,32)\n",
    "plt.title('ElasticNet')\n",
    "\n",
    "plt.legend(df_elnet_coeff.index, loc='best') # 범례\n",
    "\n",
    "plt.show()"
   ]
  },
  {
   "cell_type": "markdown",
   "id": "modern-belarus",
   "metadata": {},
   "source": [
    ">Ridge의 경우, Lasso와 ElasticNet에 비해 alpha가 커져도 MSE가 크게 커지지 않는 편"
   ]
  },
  {
   "cell_type": "markdown",
   "id": "vietnamese-piano",
   "metadata": {},
   "source": [
    "# 7. 테스트 수행 (예측정확도 비교)"
   ]
  },
  {
   "cell_type": "code",
   "execution_count": 26,
   "id": "statewide-knitting",
   "metadata": {},
   "outputs": [],
   "source": [
    "# 최적의 lambda로 학습 수행\n",
    "ridge =  Ridge(alpha=0.1).fit(x_train, y_train)\n",
    "lasso = Lasso(alpha=0.01).fit(x_train, y_train)\n",
    "elnet = ElasticNet(alpha=0.001).fit(x_train, y_train)\n",
    "\n",
    "# test set에 대해 예측 수행\n",
    "y_pred_base = base_lr.predict(x_test)\n",
    "y_pred_ridge = ridge.predict(x_test)\n",
    "y_pred_lasso = lasso.predict(x_test)\n",
    "y_pred_elnet = elnet.predict(x_test)\n",
    "\n",
    "# MSE \n",
    "mse_base = mean_squared_error(y_test, y_pred_base)\n",
    "mse_ridge = mean_squared_error(y_test, y_pred_ridge)\n",
    "mse_lasso = mean_squared_error(y_test, y_pred_lasso)\n",
    "mse_elnet = mean_squared_error(y_test, y_pred_elnet)"
   ]
  },
  {
   "cell_type": "code",
   "execution_count": 27,
   "id": "breathing-mouth",
   "metadata": {},
   "outputs": [
    {
     "name": "stdout",
     "output_type": "stream",
     "text": [
      "[MSE]  \n",
      "base MSE : 23.300\n",
      "Ridge MSE : 23.286\n",
      "Lasso MSE : 23.216\n",
      "ElasticNet MSE :23.278\n",
      "\n",
      "[모델 결정계수]  \n",
      "base score : 0.6352\n",
      "Ridge score : 0.6355\n",
      "Lasso score : 0.6366\n",
      "ElasticNet score : 0.6356\n"
     ]
    }
   ],
   "source": [
    "print(\"[MSE]  \")\n",
    "print(\"base MSE : %.3f\" % mse_base)\n",
    "print(\"Ridge MSE : %.3f\"% mse_ridge)\n",
    "print(\"Lasso MSE : %.3f\"% mse_lasso)\n",
    "print(\"ElasticNet MSE :%.3f\" % mse_elnet)\n",
    "\n",
    "print()\n",
    "print(\"[모델 결정계수]  \")\n",
    "print(\"base score : %.4f\" % base_lr.score(x_test,y_test))\n",
    "print(\"Ridge score : %.4f\"% ridge.score(x_test,y_test))\n",
    "print(\"Lasso score : %.4f\"% lasso.score(x_test,y_test))\n",
    "print(\"ElasticNet score : %.4f\" % elnet.score(x_test,y_test))\n"
   ]
  },
  {
   "cell_type": "markdown",
   "id": "smooth-cement",
   "metadata": {},
   "source": [
    "> Base모델 대비 정규화된 모델(Regularized models) 모두 예측 오차(MSE)가 작은 것을 알 수 있다.  <br>\n",
    "예측성능이 가장 높은 순서(오차가 적은 순서)는 Lasso>ElasticNet>Ridge>Base 순이지만, 그 차이가 크지 않다. <br>"
   ]
  },
  {
   "cell_type": "markdown",
   "id": "formed-frame",
   "metadata": {},
   "source": [
    "> 현재 데이터셋에서는 위와 같은 성능을 보였지만, 데이터마다 모델의 성능이 달라지므로 <br>\n",
    "모델별 특징을 고려하여 해당 데이터셋에 맞는 모델을 찾아 적용하는 것이 좋다. "
   ]
  },
  {
   "cell_type": "code",
   "execution_count": null,
   "id": "competent-liabilities",
   "metadata": {},
   "outputs": [],
   "source": []
  }
 ],
 "metadata": {
  "kernelspec": {
   "display_name": "Python 3",
   "language": "python",
   "name": "python3"
  },
  "language_info": {
   "codemirror_mode": {
    "name": "ipython",
    "version": 3
   },
   "file_extension": ".py",
   "mimetype": "text/x-python",
   "name": "python",
   "nbconvert_exporter": "python",
   "pygments_lexer": "ipython3",
   "version": "3.7.10"
  },
  "toc": {
   "base_numbering": 1,
   "nav_menu": {},
   "number_sections": true,
   "sideBar": true,
   "skip_h1_title": false,
   "title_cell": "Table of Contents",
   "title_sidebar": "Contents",
   "toc_cell": false,
   "toc_position": {
    "height": "calc(100% - 180px)",
    "left": "10px",
    "top": "150px",
    "width": "165px"
   },
   "toc_section_display": true,
   "toc_window_display": true
  }
 },
 "nbformat": 4,
 "nbformat_minor": 5
}
