{
 "cells": [
  {
   "cell_type": "markdown",
   "metadata": {},
   "source": [
    "# Lecture7. Regularization"
   ]
  },
  {
   "cell_type": "markdown",
   "metadata": {},
   "source": [
    "#### -목차-"
   ]
  },
  {
   "cell_type": "markdown",
   "metadata": {},
   "source": [
    "[1. 실험환경 구성 (Experimental setting)](#1.-실험환경-구성-(Experimental-setting))  \n",
    "\n",
    "[2. 데이터 불러오기 (Data loading)](#2.-데이터-불러오기-(Data-loading)) \n",
    ">[데이터 로드](#데이터-로드)  \n",
    ">[학습, 테스트 데이터 분리](#학습,-테스트-데이터-분리)  \n",
    "    \n",
    "[3. Linear Regression 모델 구축](#3.-Linear-Regression-모델-구축)  \n",
    ">[선형회귀 학습](#선형회귀-학습)  \n",
    "\n",
    "[4. Ridge/Lasso/ElasticNet 모델 구축 및 학습](#4.-Ridge/Lasso/ElasticNet-모델-구축-및-학습)    \n",
    "\n",
    "[5. lambda(HyperParameter) 튜닝](#5.-lambda(HyperParameter)-튜닝)  \n",
    ">[Ridge](#Ridge)  \n",
    ">[Lasso](#Lasso)  \n",
    ">[ElasticNet](#ElasticNet)  \n",
    "\n",
    "[6. 각 모델의 solution path 차트](#6.-각-모델의-solution-path-차트)  \n",
    ">[회귀계수](#회귀계수)  \n",
    ">[MSE](#MSE)  \n",
    "\n",
    "[7. 테스트 수행 (예측정확도 비교)](#7.-테스트p수행-(예측정확도-비교))"
   ]
  },
  {
   "cell_type": "markdown",
   "metadata": {},
   "source": [
    "# 1. 실험환경 구성 (Experimental setting)"
   ]
  },
  {
   "cell_type": "code",
   "execution_count": 33,
   "metadata": {},
   "outputs": [],
   "source": [
    "# 라이브러리 로드 \n",
    "import pandas as pd\n",
    "import numpy as np\n",
    "import matplotlib.pyplot as plt\n",
    "\n",
    "import mglearn #  mglearn에서 제공하는 Boston 주택가격 Dataset을 이용하기위해 import\n",
    "from sklearn.model_selection import train_test_split # train set과 test set 분리\n",
    "from sklearn.metrics import mean_squared_error # MSE\n",
    "from sklearn.linear_model import LinearRegression, Ridge, Lasso, ElasticNet\n",
    "import warnings\n",
    "warnings.filterwarnings('ignore')"
   ]
  },
  {
   "cell_type": "markdown",
   "metadata": {},
   "source": [
    "# 2. 데이터 불러오기 (Data loading)"
   ]
  },
  {
   "cell_type": "markdown",
   "metadata": {},
   "source": [
    "## 데이터 로드"
   ]
  },
  {
   "cell_type": "code",
   "execution_count": 6,
   "metadata": {},
   "outputs": [],
   "source": [
    "X, y = mglearn.datasets.load_extended_boston()"
   ]
  },
  {
   "cell_type": "markdown",
   "metadata": {},
   "source": [
    "## 학습, 테스트 데이터 분리"
   ]
  },
  {
   "cell_type": "code",
   "execution_count": 7,
   "metadata": {},
   "outputs": [],
   "source": [
    "seed = 0 # 랜덤 시드 설정\n",
    "\n",
    "# 학습, 테스트 데이터 분리 (0.8:0.2)\n",
    "x_train, x_test, y_train, y_test = train_test_split(X,y,random_state=seed, test_size=0.2)"
   ]
  },
  {
   "cell_type": "code",
   "execution_count": 8,
   "metadata": {},
   "outputs": [
    {
     "name": "stdout",
     "output_type": "stream",
     "text": [
      "x_train :  (404, 104)\n",
      "x_test :  (102, 104)\n",
      "y_train :  (404,)\n",
      "y_test :  (102,)\n"
     ]
    }
   ],
   "source": [
    "print(\"x_train : \", x_train.shape)\n",
    "print(\"x_test : \", x_test.shape)\n",
    "print(\"y_train : \", y_train.shape)\n",
    "print(\"y_test : \", y_test.shape)"
   ]
  },
  {
   "cell_type": "markdown",
   "metadata": {},
   "source": [
    "# 3. Linear Regression 모델 구축"
   ]
  },
  {
   "cell_type": "markdown",
   "metadata": {},
   "source": [
    "## 선형회귀 학습"
   ]
  },
  {
   "cell_type": "code",
   "execution_count": 9,
   "metadata": {},
   "outputs": [
    {
     "data": {
      "text/plain": [
       "LinearRegression()"
      ]
     },
     "execution_count": 9,
     "metadata": {},
     "output_type": "execute_result"
    }
   ],
   "source": [
    "base_lr = LinearRegression() # 선형회귀 모델 생성\n",
    "base_lr.fit(x_train, y_train) # 학습데이터로 모델 학습 "
   ]
  },
  {
   "cell_type": "markdown",
   "metadata": {},
   "source": [
    "# 4. Ridge/Lasso/ElasticNet 모델 구축 및 학습"
   ]
  },
  {
   "cell_type": "code",
   "execution_count": 11,
   "metadata": {},
   "outputs": [
    {
     "name": "stdout",
     "output_type": "stream",
     "text": [
      "Ridge training score : 0.8858\n",
      "Lasso training score : 0.3017\n",
      "ElasticNet training score : 0.3329\n"
     ]
    }
   ],
   "source": [
    "# alpha : 규제계수\n",
    "# l1_ratio : ElasticNet에서 L1규제 비율\n",
    "\n",
    "ridge = Ridge() # defualt (alpha=1) \n",
    "ridge.fit(x_train, y_train)\n",
    "\n",
    "lasso = Lasso() # deafualt (alpha=1)\n",
    "lasso.fit(x_train, y_train)\n",
    "\n",
    "elnet = ElasticNet() # default (alpha=1, l1_ratio=0.5)\n",
    "elnet.fit(x_train, y_train)\n",
    "\n",
    "print(\"Ridge training score : {0:.4f}\".format(ridge.score(x_train, y_train)))\n",
    "print(\"Lasso training score : {0:.4f}\".format(lasso.score(x_train, y_train)))\n",
    "print(\"ElasticNet training score : {0:.4f}\".format(elnet.score(x_train, y_train)))"
   ]
  },
  {
   "cell_type": "markdown",
   "metadata": {},
   "source": [
    ">labmda를 default로 학습했을 때, training dataset에 대한 모델의 결정계수는 Ridge모델이 가장 높은 편"
   ]
  },
  {
   "cell_type": "markdown",
   "metadata": {},
   "source": [
    "# 5. lambda(HyperParameter) 튜닝"
   ]
  },
  {
   "cell_type": "markdown",
   "metadata": {},
   "source": [
    "lambda : 규제계수 (alpha)"
   ]
  },
  {
   "cell_type": "code",
   "execution_count": 12,
   "metadata": {},
   "outputs": [],
   "source": [
    "alphas = [0, 0.001, 0.01, 0.1, 0.5, 1, 5, 10]"
   ]
  },
  {
   "cell_type": "markdown",
   "metadata": {},
   "source": [
    "## Ridge"
   ]
  },
  {
   "cell_type": "code",
   "execution_count": 14,
   "metadata": {},
   "outputs": [
    {
     "name": "stdout",
     "output_type": "stream",
     "text": [
      "alpha : 0    ,  training set score:0.949   test set score:0.613   mse:31.474\n",
      "alpha : 0.001,  training set score:0.948   test set score:0.632   mse:29.959\n",
      "alpha : 0.01 ,  training set score:0.942   test set score:0.687   mse:25.514\n",
      "alpha : 0.1  ,  training set score:0.926   test set score:0.746   mse:20.652\n",
      "alpha : 0.5  ,  training set score:0.903   test set score:0.739   mse:21.240\n",
      "alpha : 1    ,  training set score:0.886   test set score:0.721   mse:22.682\n",
      "alpha : 5    ,  training set score:0.826   test set score:0.639   mse:29.392\n",
      "alpha : 10   ,  training set score:0.793   test set score:0.589   mse:33.493\n"
     ]
    },
    {
     "data": {
      "text/html": [
       "<div>\n",
       "<style scoped>\n",
       "    .dataframe tbody tr th:only-of-type {\n",
       "        vertical-align: middle;\n",
       "    }\n",
       "\n",
       "    .dataframe tbody tr th {\n",
       "        vertical-align: top;\n",
       "    }\n",
       "\n",
       "    .dataframe thead th {\n",
       "        text-align: right;\n",
       "    }\n",
       "</style>\n",
       "<table border=\"1\" class=\"dataframe\">\n",
       "  <thead>\n",
       "    <tr style=\"text-align: right;\">\n",
       "      <th></th>\n",
       "      <th>alpha:0</th>\n",
       "      <th>alpha:0.001</th>\n",
       "      <th>alpha:0.01</th>\n",
       "      <th>alpha:0.1</th>\n",
       "      <th>alpha:0.5</th>\n",
       "      <th>alpha:1</th>\n",
       "      <th>alpha:5</th>\n",
       "      <th>alpha:10</th>\n",
       "    </tr>\n",
       "  </thead>\n",
       "  <tbody>\n",
       "    <tr>\n",
       "      <th>0</th>\n",
       "      <td>-4.901598e+02</td>\n",
       "      <td>-22.388930</td>\n",
       "      <td>-4.950456</td>\n",
       "      <td>-2.814862</td>\n",
       "      <td>-1.776695</td>\n",
       "      <td>-1.517684</td>\n",
       "      <td>-1.078191</td>\n",
       "      <td>-0.846596</td>\n",
       "    </tr>\n",
       "    <tr>\n",
       "      <th>1</th>\n",
       "      <td>-4.162787e+01</td>\n",
       "      <td>-21.258102</td>\n",
       "      <td>-9.846929</td>\n",
       "      <td>-5.894476</td>\n",
       "      <td>-2.831843</td>\n",
       "      <td>-1.658541</td>\n",
       "      <td>0.308289</td>\n",
       "      <td>0.698887</td>\n",
       "    </tr>\n",
       "    <tr>\n",
       "      <th>2</th>\n",
       "      <td>-1.285780e+02</td>\n",
       "      <td>-82.072689</td>\n",
       "      <td>-31.318836</td>\n",
       "      <td>-6.933491</td>\n",
       "      <td>-2.027529</td>\n",
       "      <td>-1.388030</td>\n",
       "      <td>-0.847508</td>\n",
       "      <td>-0.749726</td>\n",
       "    </tr>\n",
       "    <tr>\n",
       "      <th>3</th>\n",
       "      <td>-4.394125e+14</td>\n",
       "      <td>-9.948983</td>\n",
       "      <td>-6.948492</td>\n",
       "      <td>-0.291165</td>\n",
       "      <td>0.021724</td>\n",
       "      <td>-0.025527</td>\n",
       "      <td>0.245859</td>\n",
       "      <td>0.396192</td>\n",
       "    </tr>\n",
       "    <tr>\n",
       "      <th>4</th>\n",
       "      <td>-7.267888e+00</td>\n",
       "      <td>-7.358493</td>\n",
       "      <td>-3.271947</td>\n",
       "      <td>1.889559</td>\n",
       "      <td>0.677221</td>\n",
       "      <td>0.039914</td>\n",
       "      <td>-0.708207</td>\n",
       "      <td>-0.706695</td>\n",
       "    </tr>\n",
       "    <tr>\n",
       "      <th>...</th>\n",
       "      <td>...</td>\n",
       "      <td>...</td>\n",
       "      <td>...</td>\n",
       "      <td>...</td>\n",
       "      <td>...</td>\n",
       "      <td>...</td>\n",
       "      <td>...</td>\n",
       "      <td>...</td>\n",
       "    </tr>\n",
       "    <tr>\n",
       "      <th>99</th>\n",
       "      <td>2.841903e+01</td>\n",
       "      <td>15.241964</td>\n",
       "      <td>4.543596</td>\n",
       "      <td>-1.314416</td>\n",
       "      <td>-2.736199</td>\n",
       "      <td>-2.564528</td>\n",
       "      <td>-2.016887</td>\n",
       "      <td>-1.859909</td>\n",
       "    </tr>\n",
       "    <tr>\n",
       "      <th>100</th>\n",
       "      <td>1.046938e+01</td>\n",
       "      <td>8.087525</td>\n",
       "      <td>6.521012</td>\n",
       "      <td>3.044546</td>\n",
       "      <td>0.508937</td>\n",
       "      <td>-0.440338</td>\n",
       "      <td>-1.808455</td>\n",
       "      <td>-2.041599</td>\n",
       "    </tr>\n",
       "    <tr>\n",
       "      <th>101</th>\n",
       "      <td>-1.484455e+00</td>\n",
       "      <td>-2.226614</td>\n",
       "      <td>-1.739120</td>\n",
       "      <td>1.457560</td>\n",
       "      <td>1.482358</td>\n",
       "      <td>0.917013</td>\n",
       "      <td>0.826081</td>\n",
       "      <td>0.990098</td>\n",
       "    </tr>\n",
       "    <tr>\n",
       "      <th>102</th>\n",
       "      <td>1.418321e+00</td>\n",
       "      <td>-0.819816</td>\n",
       "      <td>-4.767534</td>\n",
       "      <td>-7.124767</td>\n",
       "      <td>-6.948009</td>\n",
       "      <td>-6.509466</td>\n",
       "      <td>-4.904741</td>\n",
       "      <td>-4.045035</td>\n",
       "    </tr>\n",
       "    <tr>\n",
       "      <th>103</th>\n",
       "      <td>3.120781e+01</td>\n",
       "      <td>32.160414</td>\n",
       "      <td>31.582821</td>\n",
       "      <td>25.703441</td>\n",
       "      <td>16.131962</td>\n",
       "      <td>11.193889</td>\n",
       "      <td>2.279289</td>\n",
       "      <td>0.233118</td>\n",
       "    </tr>\n",
       "  </tbody>\n",
       "</table>\n",
       "<p>104 rows × 8 columns</p>\n",
       "</div>"
      ],
      "text/plain": [
       "          alpha:0  alpha:0.001  alpha:0.01  alpha:0.1  alpha:0.5    alpha:1  \\\n",
       "0   -4.901598e+02   -22.388930   -4.950456  -2.814862  -1.776695  -1.517684   \n",
       "1   -4.162787e+01   -21.258102   -9.846929  -5.894476  -2.831843  -1.658541   \n",
       "2   -1.285780e+02   -82.072689  -31.318836  -6.933491  -2.027529  -1.388030   \n",
       "3   -4.394125e+14    -9.948983   -6.948492  -0.291165   0.021724  -0.025527   \n",
       "4   -7.267888e+00    -7.358493   -3.271947   1.889559   0.677221   0.039914   \n",
       "..            ...          ...         ...        ...        ...        ...   \n",
       "99   2.841903e+01    15.241964    4.543596  -1.314416  -2.736199  -2.564528   \n",
       "100  1.046938e+01     8.087525    6.521012   3.044546   0.508937  -0.440338   \n",
       "101 -1.484455e+00    -2.226614   -1.739120   1.457560   1.482358   0.917013   \n",
       "102  1.418321e+00    -0.819816   -4.767534  -7.124767  -6.948009  -6.509466   \n",
       "103  3.120781e+01    32.160414   31.582821  25.703441  16.131962  11.193889   \n",
       "\n",
       "      alpha:5  alpha:10  \n",
       "0   -1.078191 -0.846596  \n",
       "1    0.308289  0.698887  \n",
       "2   -0.847508 -0.749726  \n",
       "3    0.245859  0.396192  \n",
       "4   -0.708207 -0.706695  \n",
       "..        ...       ...  \n",
       "99  -2.016887 -1.859909  \n",
       "100 -1.808455 -2.041599  \n",
       "101  0.826081  0.990098  \n",
       "102 -4.904741 -4.045035  \n",
       "103  2.279289  0.233118  \n",
       "\n",
       "[104 rows x 8 columns]"
      ]
     },
     "execution_count": 14,
     "metadata": {},
     "output_type": "execute_result"
    }
   ],
   "source": [
    "df_ridge_coeff = pd.DataFrame()\n",
    "ridge_mse = list()\n",
    "\n",
    "for alpha in alphas:\n",
    "    ridge = Ridge(alpha=alpha)\n",
    "    ridge.fit(x_train, y_train)\n",
    "    y_pred = ridge.predict(x_test)\n",
    "    mse = mean_squared_error(y_test, y_pred)\n",
    "    ridge_mse.append(mse)\n",
    "    score_train = ridge.score(x_train, y_train) # 훈련set에 대한 결정계수\n",
    "    score_test = ridge.score(x_test, y_test) # 테스트set에 대한 결정계수\n",
    "\n",
    "    print(\"alpha : {0:<5},  training set score:{1:.3f}   test set score:{2:.3f}   mse:{3:.3f}\".format(alpha, score_train, score_test, mse))\n",
    "   \n",
    "    df_ridge_coeff['alpha:'+str(alpha)] = pd.Series(data=ridge.coef_)\n",
    "    \n",
    "df_ridge_coeff\n",
    "    "
   ]
  },
  {
   "cell_type": "code",
   "execution_count": 15,
   "metadata": {},
   "outputs": [
    {
     "data": {
      "image/png": "[encoded data removed]",
      "text/plain": [
       "<Figure size 504x360 with 8 Axes>"
      ]
     },
     "metadata": {
      "needs_background": "light"
     },
     "output_type": "display_data"
    }
   ],
   "source": [
    "# alpha별 coff dataframe을 barchart로 시각화\n",
    "plt.figure(figsize=(7,5)) # plot크기 설정\n",
    "\n",
    "for index, alpha in enumerate(alphas):\n",
    "    plt.subplot(2,4,index+1)\n",
    "    plt.barh(df_ridge_coeff.sort_values('alpha:'+str(alpha), ascending=False).reset_index()['index'], df_ridge_coeff.sort_values('alpha:'+str(alpha) ,ascending=False)['alpha:'+str(alpha)])\n",
    "    plt.title(\"alpha=\"+str(alpha)) #제목\n",
    "    plt.xlabel('coeff') #x축 라벨\n",
    "    plt.ylabel('feature') #y축 라벨\n",
    "\n",
    "plt.subplots_adjust(left=2, right=4, top=1.5, hspace=0.4) #subplot간 간격 조절"
   ]
  },
  {
   "cell_type": "markdown",
   "metadata": {},
   "source": [
    ">Ridge의 경우, alpha=0.1에서 최적"
   ]
  },
  {
   "cell_type": "markdown",
   "metadata": {},
   "source": [
    "## Lasso"
   ]
  },
  {
   "cell_type": "code",
   "execution_count": 34,
   "metadata": {},
   "outputs": [
    {
     "name": "stdout",
     "output_type": "stream",
     "text": [
      "alpha : 0    ,  training set score:0.940   test set score:0.690   mse:25.228\n",
      "alpha : 0.001,  training set score:0.932   test set score:0.740   mse:21.205\n",
      "alpha : 0.01 ,  training set score:0.894   test set score:0.737   mse:21.388\n",
      "alpha : 0.1  ,  training set score:0.773   test set score:0.579   mse:34.295\n",
      "alpha : 0.5  ,  training set score:0.618   test set score:0.448   mse:44.951\n",
      "alpha : 1    ,  training set score:0.302   test set score:0.186   mse:66.315\n",
      "alpha : 5    ,  training set score:0.000   test set score:-0.002   mse:81.582\n",
      "alpha : 10   ,  training set score:0.000   test set score:-0.002   mse:81.582\n"
     ]
    },
    {
     "data": {
      "text/html": [
       "<div>\n",
       "<style scoped>\n",
       "    .dataframe tbody tr th:only-of-type {\n",
       "        vertical-align: middle;\n",
       "    }\n",
       "\n",
       "    .dataframe tbody tr th {\n",
       "        vertical-align: top;\n",
       "    }\n",
       "\n",
       "    .dataframe thead th {\n",
       "        text-align: right;\n",
       "    }\n",
       "</style>\n",
       "<table border=\"1\" class=\"dataframe\">\n",
       "  <thead>\n",
       "    <tr style=\"text-align: right;\">\n",
       "      <th></th>\n",
       "      <th>alpha:0</th>\n",
       "      <th>alpha:0.001</th>\n",
       "      <th>alpha:0.01</th>\n",
       "      <th>alpha:0.1</th>\n",
       "      <th>alpha:0.5</th>\n",
       "      <th>alpha:1</th>\n",
       "      <th>alpha:5</th>\n",
       "      <th>alpha:10</th>\n",
       "    </tr>\n",
       "  </thead>\n",
       "  <tbody>\n",
       "    <tr>\n",
       "      <th>0</th>\n",
       "      <td>-49.647369</td>\n",
       "      <td>-0.000000</td>\n",
       "      <td>-0.000000</td>\n",
       "      <td>-0.0</td>\n",
       "      <td>-0.0</td>\n",
       "      <td>-0.0</td>\n",
       "      <td>-0.0</td>\n",
       "      <td>-0.0</td>\n",
       "    </tr>\n",
       "    <tr>\n",
       "      <th>1</th>\n",
       "      <td>-12.913726</td>\n",
       "      <td>-11.557603</td>\n",
       "      <td>-0.000000</td>\n",
       "      <td>0.0</td>\n",
       "      <td>0.0</td>\n",
       "      <td>0.0</td>\n",
       "      <td>0.0</td>\n",
       "      <td>0.0</td>\n",
       "    </tr>\n",
       "    <tr>\n",
       "      <th>2</th>\n",
       "      <td>-7.790428</td>\n",
       "      <td>-0.000000</td>\n",
       "      <td>-0.000000</td>\n",
       "      <td>-0.0</td>\n",
       "      <td>-0.0</td>\n",
       "      <td>-0.0</td>\n",
       "      <td>-0.0</td>\n",
       "      <td>-0.0</td>\n",
       "    </tr>\n",
       "    <tr>\n",
       "      <th>3</th>\n",
       "      <td>-8.292532</td>\n",
       "      <td>-0.000000</td>\n",
       "      <td>0.000000</td>\n",
       "      <td>0.0</td>\n",
       "      <td>0.0</td>\n",
       "      <td>0.0</td>\n",
       "      <td>0.0</td>\n",
       "      <td>0.0</td>\n",
       "    </tr>\n",
       "    <tr>\n",
       "      <th>4</th>\n",
       "      <td>-8.421566</td>\n",
       "      <td>0.204212</td>\n",
       "      <td>-0.000000</td>\n",
       "      <td>-0.0</td>\n",
       "      <td>-0.0</td>\n",
       "      <td>-0.0</td>\n",
       "      <td>-0.0</td>\n",
       "      <td>-0.0</td>\n",
       "    </tr>\n",
       "    <tr>\n",
       "      <th>...</th>\n",
       "      <td>...</td>\n",
       "      <td>...</td>\n",
       "      <td>...</td>\n",
       "      <td>...</td>\n",
       "      <td>...</td>\n",
       "      <td>...</td>\n",
       "      <td>...</td>\n",
       "      <td>...</td>\n",
       "    </tr>\n",
       "    <tr>\n",
       "      <th>99</th>\n",
       "      <td>13.203300</td>\n",
       "      <td>0.862950</td>\n",
       "      <td>-0.000000</td>\n",
       "      <td>-0.0</td>\n",
       "      <td>-0.0</td>\n",
       "      <td>-0.0</td>\n",
       "      <td>-0.0</td>\n",
       "      <td>-0.0</td>\n",
       "    </tr>\n",
       "    <tr>\n",
       "      <th>100</th>\n",
       "      <td>14.176188</td>\n",
       "      <td>1.426271</td>\n",
       "      <td>-0.000000</td>\n",
       "      <td>-0.0</td>\n",
       "      <td>-0.0</td>\n",
       "      <td>-0.0</td>\n",
       "      <td>-0.0</td>\n",
       "      <td>-0.0</td>\n",
       "    </tr>\n",
       "    <tr>\n",
       "      <th>101</th>\n",
       "      <td>-1.635929</td>\n",
       "      <td>0.000000</td>\n",
       "      <td>0.000000</td>\n",
       "      <td>0.0</td>\n",
       "      <td>0.0</td>\n",
       "      <td>0.0</td>\n",
       "      <td>0.0</td>\n",
       "      <td>0.0</td>\n",
       "    </tr>\n",
       "    <tr>\n",
       "      <th>102</th>\n",
       "      <td>-10.061951</td>\n",
       "      <td>-8.076671</td>\n",
       "      <td>-8.186099</td>\n",
       "      <td>-0.0</td>\n",
       "      <td>-0.0</td>\n",
       "      <td>-0.0</td>\n",
       "      <td>-0.0</td>\n",
       "      <td>-0.0</td>\n",
       "    </tr>\n",
       "    <tr>\n",
       "      <th>103</th>\n",
       "      <td>29.386592</td>\n",
       "      <td>34.876449</td>\n",
       "      <td>18.670442</td>\n",
       "      <td>0.0</td>\n",
       "      <td>-0.0</td>\n",
       "      <td>-0.0</td>\n",
       "      <td>-0.0</td>\n",
       "      <td>-0.0</td>\n",
       "    </tr>\n",
       "  </tbody>\n",
       "</table>\n",
       "<p>104 rows × 8 columns</p>\n",
       "</div>"
      ],
      "text/plain": [
       "       alpha:0  alpha:0.001  alpha:0.01  alpha:0.1  alpha:0.5  alpha:1  \\\n",
       "0   -49.647369    -0.000000   -0.000000       -0.0       -0.0     -0.0   \n",
       "1   -12.913726   -11.557603   -0.000000        0.0        0.0      0.0   \n",
       "2    -7.790428    -0.000000   -0.000000       -0.0       -0.0     -0.0   \n",
       "3    -8.292532    -0.000000    0.000000        0.0        0.0      0.0   \n",
       "4    -8.421566     0.204212   -0.000000       -0.0       -0.0     -0.0   \n",
       "..         ...          ...         ...        ...        ...      ...   \n",
       "99   13.203300     0.862950   -0.000000       -0.0       -0.0     -0.0   \n",
       "100  14.176188     1.426271   -0.000000       -0.0       -0.0     -0.0   \n",
       "101  -1.635929     0.000000    0.000000        0.0        0.0      0.0   \n",
       "102 -10.061951    -8.076671   -8.186099       -0.0       -0.0     -0.0   \n",
       "103  29.386592    34.876449   18.670442        0.0       -0.0     -0.0   \n",
       "\n",
       "     alpha:5  alpha:10  \n",
       "0       -0.0      -0.0  \n",
       "1        0.0       0.0  \n",
       "2       -0.0      -0.0  \n",
       "3        0.0       0.0  \n",
       "4       -0.0      -0.0  \n",
       "..       ...       ...  \n",
       "99      -0.0      -0.0  \n",
       "100     -0.0      -0.0  \n",
       "101      0.0       0.0  \n",
       "102     -0.0      -0.0  \n",
       "103     -0.0      -0.0  \n",
       "\n",
       "[104 rows x 8 columns]"
      ]
     },
     "execution_count": 34,
     "metadata": {},
     "output_type": "execute_result"
    }
   ],
   "source": [
    "df_lasso_coeff = pd.DataFrame()\n",
    "lasso_mse = list()\n",
    "\n",
    "for alpha in alphas:\n",
    "    lasso = Lasso(alpha=alpha)\n",
    "    lasso.fit(x_train, y_train)\n",
    "    y_pred = lasso.predict(x_test)\n",
    "    mse = mean_squared_error(y_test, y_pred)\n",
    "    lasso_mse.append(mse)\n",
    "    score_train = lasso.score(x_train, y_train) # 훈련set에 대한 결정계수\n",
    "    score_test = lasso.score(x_test, y_test) # 테스트set에 대한 결정계수\n",
    "    \n",
    "    print(\"alpha : {0:<5},  training set score:{1:.3f}   test set score:{2:.3f}   mse:{3:.3f}\".format(alpha, score_train, score_test, mse))\n",
    "    \n",
    "    df_lasso_coeff['alpha:'+str(alpha)] = pd.Series(data=lasso.coef_)\n",
    "    \n",
    "df_lasso_coeff\n",
    "    "
   ]
  },
  {
   "cell_type": "code",
   "execution_count": 35,
   "metadata": {},
   "outputs": [
    {
     "data": {
      "image/png": "[encoded data removed]",
      "text/plain": [
       "<Figure size 504x360 with 8 Axes>"
      ]
     },
     "metadata": {
      "needs_background": "light"
     },
     "output_type": "display_data"
    }
   ],
   "source": [
    "# alpha별 coff dataframe을 barchart로 시각화\n",
    "plt.figure(figsize=(7,5)) # plot크기 설정\n",
    "\n",
    "for index, alpha in enumerate(alphas):\n",
    "    plt.subplot(2,4,index+1)\n",
    "    plt.barh(df_lasso_coeff.sort_values('alpha:'+str(alpha), ascending=False).reset_index()['index'], df_lasso_coeff.sort_values('alpha:'+str(alpha) ,ascending=False)['alpha:'+str(alpha)])\n",
    "    plt.title(\"alpha=\"+str(alpha)) #제목\n",
    "    plt.xlabel('coeff') #x축 라벨\n",
    "    plt.ylabel('feature') #y축 라벨\n",
    "\n",
    "plt.subplots_adjust(left=2, right=4, top=1.5, hspace=0.4) #subplot간 간격 조절"
   ]
  },
  {
   "cell_type": "markdown",
   "metadata": {},
   "source": [
    "> Lasso의 경우, alpha=0.01에서 최적"
   ]
  },
  {
   "cell_type": "markdown",
   "metadata": {},
   "source": [
    "## ElasticNet"
   ]
  },
  {
   "cell_type": "code",
   "execution_count": 36,
   "metadata": {},
   "outputs": [
    {
     "name": "stdout",
     "output_type": "stream",
     "text": [
      "alpha : 0    ,  training set score:0.940   test set score:0.690   mse:25.228\n",
      "alpha : 0.001,  training set score:0.917   test set score:0.751   mse:20.270\n",
      "alpha : 0.01 ,  training set score:0.854   test set score:0.681   mse:25.974\n",
      "alpha : 0.1  ,  training set score:0.722   test set score:0.486   mse:41.864\n",
      "alpha : 0.5  ,  training set score:0.501   test set score:0.284   mse:58.297\n",
      "alpha : 1    ,  training set score:0.333   test set score:0.183   mse:66.513\n",
      "alpha : 5    ,  training set score:0.000   test set score:-0.002   mse:81.582\n",
      "alpha : 10   ,  training set score:0.000   test set score:-0.002   mse:81.582\n"
     ]
    },
    {
     "data": {
      "text/html": [
       "<div>\n",
       "<style scoped>\n",
       "    .dataframe tbody tr th:only-of-type {\n",
       "        vertical-align: middle;\n",
       "    }\n",
       "\n",
       "    .dataframe tbody tr th {\n",
       "        vertical-align: top;\n",
       "    }\n",
       "\n",
       "    .dataframe thead th {\n",
       "        text-align: right;\n",
       "    }\n",
       "</style>\n",
       "<table border=\"1\" class=\"dataframe\">\n",
       "  <thead>\n",
       "    <tr style=\"text-align: right;\">\n",
       "      <th></th>\n",
       "      <th>alpha:0</th>\n",
       "      <th>alpha:0.001</th>\n",
       "      <th>alpha:0.01</th>\n",
       "      <th>alpha:0.1</th>\n",
       "      <th>alpha:0.5</th>\n",
       "      <th>alpha:1</th>\n",
       "      <th>alpha:5</th>\n",
       "      <th>alpha:10</th>\n",
       "    </tr>\n",
       "  </thead>\n",
       "  <tbody>\n",
       "    <tr>\n",
       "      <th>0</th>\n",
       "      <td>-49.647369</td>\n",
       "      <td>-2.634975</td>\n",
       "      <td>-1.325033</td>\n",
       "      <td>-0.108137</td>\n",
       "      <td>-0.000000</td>\n",
       "      <td>-0.000000</td>\n",
       "      <td>-0.0</td>\n",
       "      <td>-0.0</td>\n",
       "    </tr>\n",
       "    <tr>\n",
       "      <th>1</th>\n",
       "      <td>-12.913726</td>\n",
       "      <td>-2.642147</td>\n",
       "      <td>-0.199973</td>\n",
       "      <td>0.544191</td>\n",
       "      <td>0.373871</td>\n",
       "      <td>0.122759</td>\n",
       "      <td>0.0</td>\n",
       "      <td>0.0</td>\n",
       "    </tr>\n",
       "    <tr>\n",
       "      <th>2</th>\n",
       "      <td>-7.790428</td>\n",
       "      <td>-4.724807</td>\n",
       "      <td>-0.360960</td>\n",
       "      <td>-0.611324</td>\n",
       "      <td>-0.558044</td>\n",
       "      <td>-0.374256</td>\n",
       "      <td>-0.0</td>\n",
       "      <td>-0.0</td>\n",
       "    </tr>\n",
       "    <tr>\n",
       "      <th>3</th>\n",
       "      <td>-8.292532</td>\n",
       "      <td>0.000000</td>\n",
       "      <td>0.029182</td>\n",
       "      <td>0.593658</td>\n",
       "      <td>0.202955</td>\n",
       "      <td>0.000000</td>\n",
       "      <td>0.0</td>\n",
       "      <td>0.0</td>\n",
       "    </tr>\n",
       "    <tr>\n",
       "      <th>4</th>\n",
       "      <td>-8.421566</td>\n",
       "      <td>1.132886</td>\n",
       "      <td>-0.098674</td>\n",
       "      <td>-0.156460</td>\n",
       "      <td>-0.111108</td>\n",
       "      <td>-0.039167</td>\n",
       "      <td>-0.0</td>\n",
       "      <td>-0.0</td>\n",
       "    </tr>\n",
       "    <tr>\n",
       "      <th>...</th>\n",
       "      <td>...</td>\n",
       "      <td>...</td>\n",
       "      <td>...</td>\n",
       "      <td>...</td>\n",
       "      <td>...</td>\n",
       "      <td>...</td>\n",
       "      <td>...</td>\n",
       "      <td>...</td>\n",
       "    </tr>\n",
       "    <tr>\n",
       "      <th>99</th>\n",
       "      <td>13.203300</td>\n",
       "      <td>-2.157281</td>\n",
       "      <td>-1.886117</td>\n",
       "      <td>-1.224570</td>\n",
       "      <td>-0.301320</td>\n",
       "      <td>-0.000000</td>\n",
       "      <td>-0.0</td>\n",
       "      <td>-0.0</td>\n",
       "    </tr>\n",
       "    <tr>\n",
       "      <th>100</th>\n",
       "      <td>14.176188</td>\n",
       "      <td>1.044576</td>\n",
       "      <td>-1.048845</td>\n",
       "      <td>-2.060645</td>\n",
       "      <td>-1.128322</td>\n",
       "      <td>-0.568641</td>\n",
       "      <td>-0.0</td>\n",
       "      <td>-0.0</td>\n",
       "    </tr>\n",
       "    <tr>\n",
       "      <th>101</th>\n",
       "      <td>-1.635929</td>\n",
       "      <td>2.047886</td>\n",
       "      <td>0.468164</td>\n",
       "      <td>0.996171</td>\n",
       "      <td>0.403849</td>\n",
       "      <td>0.062398</td>\n",
       "      <td>0.0</td>\n",
       "      <td>0.0</td>\n",
       "    </tr>\n",
       "    <tr>\n",
       "      <th>102</th>\n",
       "      <td>-10.061951</td>\n",
       "      <td>-6.927210</td>\n",
       "      <td>-5.800696</td>\n",
       "      <td>-2.877192</td>\n",
       "      <td>-0.995842</td>\n",
       "      <td>-0.370701</td>\n",
       "      <td>-0.0</td>\n",
       "      <td>-0.0</td>\n",
       "    </tr>\n",
       "    <tr>\n",
       "      <th>103</th>\n",
       "      <td>29.386592</td>\n",
       "      <td>22.013285</td>\n",
       "      <td>5.487085</td>\n",
       "      <td>-0.727507</td>\n",
       "      <td>-0.666859</td>\n",
       "      <td>-0.252799</td>\n",
       "      <td>-0.0</td>\n",
       "      <td>-0.0</td>\n",
       "    </tr>\n",
       "  </tbody>\n",
       "</table>\n",
       "<p>104 rows × 8 columns</p>\n",
       "</div>"
      ],
      "text/plain": [
       "       alpha:0  alpha:0.001  alpha:0.01  alpha:0.1  alpha:0.5   alpha:1  \\\n",
       "0   -49.647369    -2.634975   -1.325033  -0.108137  -0.000000 -0.000000   \n",
       "1   -12.913726    -2.642147   -0.199973   0.544191   0.373871  0.122759   \n",
       "2    -7.790428    -4.724807   -0.360960  -0.611324  -0.558044 -0.374256   \n",
       "3    -8.292532     0.000000    0.029182   0.593658   0.202955  0.000000   \n",
       "4    -8.421566     1.132886   -0.098674  -0.156460  -0.111108 -0.039167   \n",
       "..         ...          ...         ...        ...        ...       ...   \n",
       "99   13.203300    -2.157281   -1.886117  -1.224570  -0.301320 -0.000000   \n",
       "100  14.176188     1.044576   -1.048845  -2.060645  -1.128322 -0.568641   \n",
       "101  -1.635929     2.047886    0.468164   0.996171   0.403849  0.062398   \n",
       "102 -10.061951    -6.927210   -5.800696  -2.877192  -0.995842 -0.370701   \n",
       "103  29.386592    22.013285    5.487085  -0.727507  -0.666859 -0.252799   \n",
       "\n",
       "     alpha:5  alpha:10  \n",
       "0       -0.0      -0.0  \n",
       "1        0.0       0.0  \n",
       "2       -0.0      -0.0  \n",
       "3        0.0       0.0  \n",
       "4       -0.0      -0.0  \n",
       "..       ...       ...  \n",
       "99      -0.0      -0.0  \n",
       "100     -0.0      -0.0  \n",
       "101      0.0       0.0  \n",
       "102     -0.0      -0.0  \n",
       "103     -0.0      -0.0  \n",
       "\n",
       "[104 rows x 8 columns]"
      ]
     },
     "execution_count": 36,
     "metadata": {},
     "output_type": "execute_result"
    }
   ],
   "source": [
    "df_elnet_coeff = pd.DataFrame()\n",
    "elnet_mse =  list()\n",
    "\n",
    "for alpha in alphas:\n",
    "    elnet = ElasticNet(alpha=alpha, l1_ratio=0.5)\n",
    "    elnet.fit(x_train, y_train)\n",
    "    y_pred = elnet.predict(x_test)\n",
    "    mse = mean_squared_error(y_test, y_pred)\n",
    "    elnet_mse.append(mse)\n",
    "\n",
    "    score_train = elnet.score(x_train, y_train) # 훈련set에 대한 결정계수\n",
    "    score_test = elnet.score(x_test, y_test) # 테스트set에 대한 결정계수\n",
    "\n",
    "    print(\"alpha : {0:<5},  training set score:{1:.3f}   test set score:{2:.3f}   mse:{3:.3f}\".format(alpha, score_train, score_test, mse))\n",
    "        \n",
    "    df_elnet_coeff['alpha:'+str(alpha)] = pd.Series(data=elnet.coef_)\n",
    "    \n",
    "df_elnet_coeff\n",
    "    "
   ]
  },
  {
   "cell_type": "code",
   "execution_count": 37,
   "metadata": {},
   "outputs": [
    {
     "data": {
      "image/png": "[encoded data removed]",
      "text/plain": [
       "<Figure size 504x360 with 8 Axes>"
      ]
     },
     "metadata": {
      "needs_background": "light"
     },
     "output_type": "display_data"
    }
   ],
   "source": [
    "# alpha별 coff dataframe을 barchart로 시각화\n",
    "plt.figure(figsize=(7,5)) # plot크기 설정\n",
    "\n",
    "for index, alpha in enumerate(alphas):\n",
    "    plt.subplot(2,4,index+1)\n",
    "    plt.barh(df_elnet_coeff.sort_values('alpha:'+str(alpha), ascending=False).reset_index()['index'], df_elnet_coeff.sort_values('alpha:'+str(alpha) ,ascending=False)['alpha:'+str(alpha)])\n",
    "    plt.title(\"alpha=\"+str(alpha)) #제목\n",
    "    plt.xlabel('coeff') #x축 라벨\n",
    "    plt.ylabel('feature') #y축 라벨\n",
    "\n",
    "plt.subplots_adjust(left=2, right=4, top=1.5, hspace=0.4) #subplot간 간격 조절"
   ]
  },
  {
   "cell_type": "markdown",
   "metadata": {},
   "source": [
    "> ElasticNet의 경우, alpha=0.001에서 최적"
   ]
  },
  {
   "cell_type": "markdown",
   "metadata": {},
   "source": [
    "# 6. 각 모델의 solution path 차트"
   ]
  },
  {
   "cell_type": "markdown",
   "metadata": {},
   "source": [
    "## 회귀계수"
   ]
  },
  {
   "cell_type": "code",
   "execution_count": 25,
   "metadata": {},
   "outputs": [
    {
     "data": {
      "image/png": "[encoded data removed]",
      "text/plain": [
       "<Figure size 1440x360 with 3 Axes>"
      ]
     },
     "metadata": {
      "needs_background": "light"
     },
     "output_type": "display_data"
    }
   ],
   "source": [
    "plt.figure(figsize=(20,5)) # plot크기 설정\n",
    "\n",
    "# Ridge \n",
    "df_ridge_coeff.columns=alphas\n",
    "plt.subplot(1,3,1)\n",
    "plt.semilogx(df_ridge_coeff.T)\n",
    "plt.xticks(alphas)\n",
    "plt.xlabel('log(lambda)')\n",
    "plt.ylabel('coefficient')\n",
    "plt.title('Ridge')\n",
    "\n",
    "# Lasso \n",
    "df_lasso_coeff.columns=alphas\n",
    "plt.subplot(1,3,2)\n",
    "plt.semilogx(df_lasso_coeff.T)\n",
    "plt.xticks(alphas)\n",
    "plt.xlabel('log(lambda)')\n",
    "plt.ylabel('coefficient')\n",
    "plt.title('Lasso')\n",
    "\n",
    "# ElasticNet\n",
    "df_elnet_coeff.columns=alphas\n",
    "plt.subplot(1,3,3)\n",
    "plt.semilogx(df_elnet_coeff.T)\n",
    "plt.xticks(alphas)\n",
    "plt.xlabel('log(lambda)')\n",
    "plt.ylabel('coefficient')\n",
    "plt.title('ElasticNet')\n",
    "\n",
    "#plt.legend(df_elnet_coeff.index, loc='best') # 범례\n",
    "\n",
    "plt.show()"
   ]
  },
  {
   "cell_type": "markdown",
   "metadata": {},
   "source": [
    "## MSE"
   ]
  },
  {
   "cell_type": "code",
   "execution_count": 30,
   "metadata": {},
   "outputs": [
    {
     "data": {
      "image/png": "[encoded data removed]",
      "text/plain": [
       "<Figure size 1440x360 with 3 Axes>"
      ]
     },
     "metadata": {
      "needs_background": "light"
     },
     "output_type": "display_data"
    }
   ],
   "source": [
    "plt.figure(figsize=(20,5)) # plot크기 설정\n",
    "\n",
    "# Ridge \n",
    "plt.subplot(1,3,1)\n",
    "plt.plot(alphas, ridge_mse)\n",
    "plt.xticks(alphas)\n",
    "plt.xlabel('lambda')\n",
    "plt.ylabel('MSE')\n",
    "\n",
    "plt.title('Ridge')\n",
    "\n",
    "# Lasso \n",
    "df_lasso_coeff.columns=alphas\n",
    "plt.subplot(1,3,2)\n",
    "plt.plot(alphas, lasso_mse)\n",
    "plt.xticks(alphas)\n",
    "plt.xlabel('lambda')\n",
    "plt.ylabel('MSE')\n",
    "plt.title('Lasso')\n",
    "\n",
    "# ElasticNet\n",
    "df_elnet_coeff.columns=alphas\n",
    "plt.subplot(1,3,3)\n",
    "plt.plot(alphas, elnet_mse)\n",
    "plt.xticks(alphas)\n",
    "plt.xlabel('lambda')\n",
    "plt.ylabel('MSE')\n",
    "plt.title('ElasticNet')\n",
    "\n",
    "#plt.legend(df_elnet_coeff.index, loc='best') # 범례\n",
    "\n",
    "plt.show()"
   ]
  },
  {
   "cell_type": "markdown",
   "metadata": {},
   "source": [
    ">Ridge의 경우, Lasso와 ElasticNet에 비해 alpha가 커져도 MSE가 크게 커지지 않는 편"
   ]
  },
  {
   "cell_type": "markdown",
   "metadata": {},
   "source": [
    "# 7. 테스트 수행 (예측정확도 비교)"
   ]
  },
  {
   "cell_type": "code",
   "execution_count": 38,
   "metadata": {},
   "outputs": [],
   "source": [
    "# 최적의 lambda로 학습 수행\n",
    "ridge =  Ridge(alpha=0.1).fit(x_train, y_train)\n",
    "lasso = Lasso(alpha=0.01).fit(x_train, y_train)\n",
    "elnet = ElasticNet(alpha=0.001).fit(x_train, y_train)\n",
    "\n",
    "# test set에 대해 예측 수행\n",
    "y_pred_base = base_lr.predict(x_test)\n",
    "y_pred_ridge = ridge.predict(x_test)\n",
    "y_pred_lasso = lasso.predict(x_test)\n",
    "y_pred_elnet = elnet.predict(x_test)\n",
    "\n",
    "# MSE \n",
    "mse_base = mean_squared_error(y_test, y_pred_base)\n",
    "mse_ridge = mean_squared_error(y_test, y_pred_ridge)\n",
    "mse_lasso = mean_squared_error(y_test, y_pred_lasso)\n",
    "mse_elnet = mean_squared_error(y_test, y_pred_elnet)"
   ]
  },
  {
   "cell_type": "code",
   "execution_count": 39,
   "metadata": {},
   "outputs": [
    {
     "name": "stdout",
     "output_type": "stream",
     "text": [
      "[MSE]  \n",
      "base MSE : 31.278\n",
      "Ridge MSE : 20.652\n",
      "Lasso MSE : 21.388\n",
      "ElasticNet MSE :20.270\n",
      "\n",
      "[모델 결정계수]  \n",
      "base score : 0.6159\n",
      "Ridge score : 0.7464\n",
      "Lasso score : 0.7373\n",
      "ElasticNet score : 0.7511\n"
     ]
    }
   ],
   "source": [
    "print(\"[MSE]  \")\n",
    "print(\"base MSE : %.3f\" % mse_base)\n",
    "print(\"Ridge MSE : %.3f\"% mse_ridge)\n",
    "print(\"Lasso MSE : %.3f\"% mse_lasso)\n",
    "print(\"ElasticNet MSE :%.3f\" % mse_elnet)\n",
    "\n",
    "print()\n",
    "print(\"[모델 결정계수]  \")\n",
    "print(\"base score : %.4f\" % base_lr.score(x_test,y_test))\n",
    "print(\"Ridge score : %.4f\"% ridge.score(x_test,y_test))\n",
    "print(\"Lasso score : %.4f\"% lasso.score(x_test,y_test))\n",
    "print(\"ElasticNet score : %.4f\" % elnet.score(x_test,y_test))\n"
   ]
  },
  {
   "cell_type": "markdown",
   "metadata": {},
   "source": [
    "> Base모델 대비 정규화된 모델(Regularized models) 모두 예측 오차(MSE)가 훨씬 작은 것을 알 수 있다.  <br>\n",
    "예측성능이 가장 높은 순서(오차가 적은 순서)는 ElasticNet>Ridge>Lasso>Base 순이다. <br>\n",
    "Lasso는 변수를 선택하는 메카니즘으로, 다른 두 정규화모델보다 예측성능은 떨어질 수 있지만 반대로 해석적인 측면에서 장점이 있다."
   ]
  }
 ],
 "metadata": {
  "kernelspec": {
   "display_name": "Python 3",
   "language": "python",
   "name": "python3"
  },
  "language_info": {
   "codemirror_mode": {
    "name": "ipython",
    "version": 3
   },
   "file_extension": ".py",
   "mimetype": "text/x-python",
   "name": "python",
   "nbconvert_exporter": "python",
   "pygments_lexer": "ipython3",
   "version": "3.8.5"
  },
  "toc": {
   "base_numbering": 1,
   "nav_menu": {},
   "number_sections": true,
   "sideBar": true,
   "skip_h1_title": false,
   "title_cell": "Table of Contents",
   "title_sidebar": "Contents",
   "toc_cell": false,
   "toc_position": {
    "height": "calc(100% - 180px)",
    "left": "10px",
    "top": "150px",
    "width": "355px"
   },
   "toc_section_display": true,
   "toc_window_display": true
  }
 },
 "nbformat": 4,
 "nbformat_minor": 5
}
