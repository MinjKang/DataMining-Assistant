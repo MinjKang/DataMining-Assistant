{
 "cells": [
  {
   "cell_type": "markdown",
   "metadata": {},
   "source": [
    "# Lecture8. Decision tree model"
   ]
  },
  {
   "cell_type": "markdown",
   "metadata": {},
   "source": [
    "#### -목차-"
   ]
  },
  {
   "cell_type": "markdown",
   "metadata": {},
   "source": [
    "[1. 실험환경 구성 (Experimental setting)](#1.-실험환경-구성-(Experimental-setting))  \n",
    "[2. 데이터 불러오기 (Data loading)](#2.-데이터-불러오기-(Data-loading))  \n",
    ">[데이터 확인](#데이터-확인)  \n",
    ">[학습, 테스트 데이터 분리](#학습,-테스트-데이터-분리)  \n",
    "\n",
    "[3. 의사결정나무 모델 구축 (Classification Tree)](#3.-의사결정나무-모델-구축-(Classification-Tree)) \n",
    ">[의사결정나무 모델 가시화](#의사결정나무-모델-가시화) \n",
    "\n",
    "[4. 의사결정나무 모델 테스트 ](#4.-의사결정나무-모델-테스트) \n",
    ">[Cross Validation](#Cross Validation)  \n",
    "\n",
    "[5. 가지치기 수행 (Pruning phase)](#5.-가지치기-수행-(Pruning-phase)) "
   ]
  },
  {
   "cell_type": "markdown",
   "metadata": {
    "id": "under-complex"
   },
   "source": [
    "# 1. 실험환경 구성 (Experimental setting)"
   ]
  },
  {
   "cell_type": "code",
   "execution_count": 20,
   "metadata": {
    "executionInfo": {
     "elapsed": 1230,
     "status": "ok",
     "timestamp": 1616656739831,
     "user": {
      "displayName": "고해지",
      "photoUrl": "",
      "userId": "12709063932312169253"
     },
     "user_tz": -540
    },
    "id": "compatible-democrat"
   },
   "outputs": [],
   "source": [
    "# 라이브러리 로드\n",
    "import pandas as pd\n",
    "\n",
    "from sklearn.tree import DecisionTreeClassifier\n",
    "from sklearn.datasets import load_breast_cancer # 사용할 dataset (유방암데이터)\n",
    "from sklearn.model_selection import train_test_split # 학습, 테스트set 구분\n",
    "from sklearn.tree import export_graphviz # tree 시각화를 위해\n",
    "# export_graphviz : 의사결정나무에 대한 graphviz dot data 생성하는 함수\n",
    "import graphviz # tree 시각화\n",
    "import sklearn.metrics as mt # 성능지표를 계산하기 위해 import\n",
    "from sklearn.model_selection import cross_val_score, cross_validate # 교차검증\n",
    "\n",
    "import warnings\n",
    "warnings.filterwarnings('ignore')\n"
   ]
  },
  {
   "cell_type": "markdown",
   "metadata": {
    "id": "russian-press"
   },
   "source": [
    "# 2. 데이터 불러오기 (Data loading)"
   ]
  },
  {
   "cell_type": "markdown",
   "metadata": {
    "id": "exclusive-fairy"
   },
   "source": [
    "## 데이터 로드"
   ]
  },
  {
   "cell_type": "code",
   "execution_count": 6,
   "metadata": {
    "executionInfo": {
     "elapsed": 819,
     "status": "ok",
     "timestamp": 1616656507695,
     "user": {
      "displayName": "고해지",
      "photoUrl": "",
      "userId": "12709063932312169253"
     },
     "user_tz": -540
    },
    "id": "45ZNF76VNB4B"
   },
   "outputs": [],
   "source": [
    "cancer = load_breast_cancer()"
   ]
  },
  {
   "cell_type": "markdown",
   "metadata": {
    "id": "perfect-pointer"
   },
   "source": [
    "## 학습, 테스트 데이터 분리"
   ]
  },
  {
   "cell_type": "code",
   "execution_count": 10,
   "metadata": {
    "executionInfo": {
     "elapsed": 878,
     "status": "ok",
     "timestamp": 1616656634002,
     "user": {
      "displayName": "고해지",
      "photoUrl": "",
      "userId": "12709063932312169253"
     },
     "user_tz": -540
    },
    "id": "identical-salon"
   },
   "outputs": [],
   "source": [
    "seed = 2021\n",
    "\n",
    "# 학습, 테스트 데이터 분리 (0.7:0.3)\n",
    "x_train, x_test, y_train, y_test = train_test_split(cancer.data, cancer.target, test_size=0.7, random_state=seed)"
   ]
  },
  {
   "cell_type": "markdown",
   "metadata": {
    "id": "becoming-rainbow"
   },
   "source": [
    "# 3. 의사결정나무 모델 구축 (Classification Tree)"
   ]
  },
  {
   "cell_type": "code",
   "execution_count": 11,
   "metadata": {
    "colab": {
     "base_uri": "https://localhost:8080/"
    },
    "executionInfo": {
     "elapsed": 1241,
     "status": "ok",
     "timestamp": 1616656638096,
     "user": {
      "displayName": "고해지",
      "photoUrl": "",
      "userId": "12709063932312169253"
     },
     "user_tz": -540
    },
    "id": "charged-james",
    "outputId": "5eb5c18c-47d1-4406-9f7d-5c3c56bd3c88"
   },
   "outputs": [
    {
     "data": {
      "text/plain": [
       "DecisionTreeClassifier(ccp_alpha=0.0, class_weight=None, criterion='gini',\n",
       "                       max_depth=None, max_features=None, max_leaf_nodes=None,\n",
       "                       min_impurity_decrease=0.0, min_impurity_split=None,\n",
       "                       min_samples_leaf=1, min_samples_split=2,\n",
       "                       min_weight_fraction_leaf=0.0, presort='deprecated',\n",
       "                       random_state=156, splitter='best')"
      ]
     },
     "execution_count": 11,
     "metadata": {
      "tags": []
     },
     "output_type": "execute_result"
    }
   ],
   "source": [
    "dt_clf = DecisionTreeClassifier(random_state=156)\n",
    "dt_clf.fit(x_train, y_train) # 학습"
   ]
  },
  {
   "cell_type": "markdown",
   "metadata": {
    "id": "distant-duplicate"
   },
   "source": [
    "## 의사결정나무 모델 가시화"
   ]
  },
  {
   "cell_type": "code",
   "execution_count": 12,
   "metadata": {
    "executionInfo": {
     "elapsed": 650,
     "status": "ok",
     "timestamp": 1616656644818,
     "user": {
      "displayName": "고해지",
      "photoUrl": "",
      "userId": "12709063932312169253"
     },
     "user_tz": -540
    },
    "id": "statewide-graduation"
   },
   "outputs": [],
   "source": [
    "# export_graphviz( )의 호출 결과로 out_file로 지정된 tree.dot 파일을 생성\n",
    "export_graphviz(dt_clf, out_file=\"tree.dot\", class_names = cancer.target_names, feature_names = cancer.feature_names, impurity=True, filled=True)"
   ]
  },
  {
   "cell_type": "code",
   "execution_count": 13,
   "metadata": {
    "colab": {
     "base_uri": "https://localhost:8080/",
     "height": 933
    },
    "executionInfo": {
     "elapsed": 1010,
     "status": "ok",
     "timestamp": 1616656648253,
     "user": {
      "displayName": "고해지",
      "photoUrl": "",
      "userId": "12709063932312169253"
     },
     "user_tz": -540
    },
    "id": "outside-winner",
    "outputId": "e25de700-09ec-41c4-8337-6d7ca3adc534"
   },
   "outputs": [
    {
     "name": "stdout",
     "output_type": "stream",
     "text": [
      "[ max_depth의 제약이 없는 경우의 Decision Tree 시각화 ]\n"
     ]
    },
    {
     "data": {
      "image/svg+xml": [
       "<?xml version=\"1.0\" encoding=\"UTF-8\" standalone=\"no\"?>\n",
       "<!DOCTYPE svg PUBLIC \"-//W3C//DTD SVG 1.1//EN\"\n",
       " \"http://www.w3.org/Graphics/SVG/1.1/DTD/svg11.dtd\">\n",
       "<!-- Generated by graphviz version 2.40.1 (20161225.0304)\n",
       " -->\n",
       "<!-- Title: Tree Pages: 1 -->\n",
       "<svg width=\"942pt\" height=\"671pt\"\n",
       " viewBox=\"0.00 0.00 942.00 671.00\" xmlns=\"http://www.w3.org/2000/svg\" xmlns:xlink=\"http://www.w3.org/1999/xlink\">\n",
       "<g id=\"graph0\" class=\"graph\" transform=\"scale(1 1) rotate(0) translate(4 667)\">\n",
       "<title>Tree</title>\n",
       "<polygon fill=\"#ffffff\" stroke=\"transparent\" points=\"-4,4 -4,-667 938,-667 938,4 -4,4\"/>\n",
       "<!-- 0 -->\n",
       "<g id=\"node1\" class=\"node\">\n",
       "<title>0</title>\n",
       "<polygon fill=\"#a2d1f3\" stroke=\"#000000\" points=\"634.5,-663 439.5,-663 439.5,-580 634.5,-580 634.5,-663\"/>\n",
       "<text text-anchor=\"middle\" x=\"537\" y=\"-647.8\" font-family=\"Times,serif\" font-size=\"14.00\" fill=\"#000000\">worst concave points &lt;= 0.145</text>\n",
       "<text text-anchor=\"middle\" x=\"537\" y=\"-632.8\" font-family=\"Times,serif\" font-size=\"14.00\" fill=\"#000000\">gini = 0.453</text>\n",
       "<text text-anchor=\"middle\" x=\"537\" y=\"-617.8\" font-family=\"Times,serif\" font-size=\"14.00\" fill=\"#000000\">samples = 170</text>\n",
       "<text text-anchor=\"middle\" x=\"537\" y=\"-602.8\" font-family=\"Times,serif\" font-size=\"14.00\" fill=\"#000000\">value = [59, 111]</text>\n",
       "<text text-anchor=\"middle\" x=\"537\" y=\"-587.8\" font-family=\"Times,serif\" font-size=\"14.00\" fill=\"#000000\">class = benign</text>\n",
       "</g>\n",
       "<!-- 1 -->\n",
       "<g id=\"node2\" class=\"node\">\n",
       "<title>1</title>\n",
       "<polygon fill=\"#44a2e6\" stroke=\"#000000\" points=\"485,-544 345,-544 345,-461 485,-461 485,-544\"/>\n",
       "<text text-anchor=\"middle\" x=\"415\" y=\"-528.8\" font-family=\"Times,serif\" font-size=\"14.00\" fill=\"#000000\">worst area &lt;= 893.65</text>\n",
       "<text text-anchor=\"middle\" x=\"415\" y=\"-513.8\" font-family=\"Times,serif\" font-size=\"14.00\" fill=\"#000000\">gini = 0.101</text>\n",
       "<text text-anchor=\"middle\" x=\"415\" y=\"-498.8\" font-family=\"Times,serif\" font-size=\"14.00\" fill=\"#000000\">samples = 113</text>\n",
       "<text text-anchor=\"middle\" x=\"415\" y=\"-483.8\" font-family=\"Times,serif\" font-size=\"14.00\" fill=\"#000000\">value = [6, 107]</text>\n",
       "<text text-anchor=\"middle\" x=\"415\" y=\"-468.8\" font-family=\"Times,serif\" font-size=\"14.00\" fill=\"#000000\">class = benign</text>\n",
       "</g>\n",
       "<!-- 0&#45;&gt;1 -->\n",
       "<g id=\"edge1\" class=\"edge\">\n",
       "<title>0&#45;&gt;1</title>\n",
       "<path fill=\"none\" stroke=\"#000000\" d=\"M494.3303,-579.8796C484.9123,-570.6931 474.8516,-560.8798 465.1672,-551.4336\"/>\n",
       "<polygon fill=\"#000000\" stroke=\"#000000\" points=\"467.4543,-548.7751 457.8518,-544.2981 462.5665,-553.7861 467.4543,-548.7751\"/>\n",
       "<text text-anchor=\"middle\" x=\"458.163\" y=\"-565.5961\" font-family=\"Times,serif\" font-size=\"14.00\" fill=\"#000000\">True</text>\n",
       "</g>\n",
       "<!-- 10 -->\n",
       "<g id=\"node11\" class=\"node\">\n",
       "<title>10</title>\n",
       "<polygon fill=\"#e78b48\" stroke=\"#000000\" points=\"733.5,-544 530.5,-544 530.5,-461 733.5,-461 733.5,-544\"/>\n",
       "<text text-anchor=\"middle\" x=\"632\" y=\"-528.8\" font-family=\"Times,serif\" font-size=\"14.00\" fill=\"#000000\">fractal dimension error &lt;= 0.013</text>\n",
       "<text text-anchor=\"middle\" x=\"632\" y=\"-513.8\" font-family=\"Times,serif\" font-size=\"14.00\" fill=\"#000000\">gini = 0.131</text>\n",
       "<text text-anchor=\"middle\" x=\"632\" y=\"-498.8\" font-family=\"Times,serif\" font-size=\"14.00\" fill=\"#000000\">samples = 57</text>\n",
       "<text text-anchor=\"middle\" x=\"632\" y=\"-483.8\" font-family=\"Times,serif\" font-size=\"14.00\" fill=\"#000000\">value = [53, 4]</text>\n",
       "<text text-anchor=\"middle\" x=\"632\" y=\"-468.8\" font-family=\"Times,serif\" font-size=\"14.00\" fill=\"#000000\">class = malignant</text>\n",
       "</g>\n",
       "<!-- 0&#45;&gt;10 -->\n",
       "<g id=\"edge10\" class=\"edge\">\n",
       "<title>0&#45;&gt;10</title>\n",
       "<path fill=\"none\" stroke=\"#000000\" d=\"M570.2264,-579.8796C577.3444,-570.9633 584.9339,-561.4565 592.2692,-552.268\"/>\n",
       "<polygon fill=\"#000000\" stroke=\"#000000\" points=\"595.1281,-554.2968 598.6318,-544.2981 589.6575,-549.9295 595.1281,-554.2968\"/>\n",
       "<text text-anchor=\"middle\" x=\"601.4181\" y=\"-565.4423\" font-family=\"Times,serif\" font-size=\"14.00\" fill=\"#000000\">False</text>\n",
       "</g>\n",
       "<!-- 2 -->\n",
       "<g id=\"node3\" class=\"node\">\n",
       "<title>2</title>\n",
       "<polygon fill=\"#3d9fe5\" stroke=\"#000000\" points=\"296,-425 140,-425 140,-342 296,-342 296,-425\"/>\n",
       "<text text-anchor=\"middle\" x=\"218\" y=\"-409.8\" font-family=\"Times,serif\" font-size=\"14.00\" fill=\"#000000\">worst texture &lt;= 33.105</text>\n",
       "<text text-anchor=\"middle\" x=\"218\" y=\"-394.8\" font-family=\"Times,serif\" font-size=\"14.00\" fill=\"#000000\">gini = 0.036</text>\n",
       "<text text-anchor=\"middle\" x=\"218\" y=\"-379.8\" font-family=\"Times,serif\" font-size=\"14.00\" fill=\"#000000\">samples = 108</text>\n",
       "<text text-anchor=\"middle\" x=\"218\" y=\"-364.8\" font-family=\"Times,serif\" font-size=\"14.00\" fill=\"#000000\">value = [2, 106]</text>\n",
       "<text text-anchor=\"middle\" x=\"218\" y=\"-349.8\" font-family=\"Times,serif\" font-size=\"14.00\" fill=\"#000000\">class = benign</text>\n",
       "</g>\n",
       "<!-- 1&#45;&gt;2 -->\n",
       "<g id=\"edge2\" class=\"edge\">\n",
       "<title>1&#45;&gt;2</title>\n",
       "<path fill=\"none\" stroke=\"#000000\" d=\"M346.099,-460.8796C329.753,-451.0056 312.2081,-440.4075 295.5076,-430.3193\"/>\n",
       "<polygon fill=\"#000000\" stroke=\"#000000\" points=\"297.2314,-427.2716 286.8621,-425.0969 293.612,-433.2633 297.2314,-427.2716\"/>\n",
       "</g>\n",
       "<!-- 7 -->\n",
       "<g id=\"node8\" class=\"node\">\n",
       "<title>7</title>\n",
       "<polygon fill=\"#eca06a\" stroke=\"#000000\" points=\"489,-425 341,-425 341,-342 489,-342 489,-425\"/>\n",
       "<text text-anchor=\"middle\" x=\"415\" y=\"-409.8\" font-family=\"Times,serif\" font-size=\"14.00\" fill=\"#000000\">mean texture &lt;= 19.15</text>\n",
       "<text text-anchor=\"middle\" x=\"415\" y=\"-394.8\" font-family=\"Times,serif\" font-size=\"14.00\" fill=\"#000000\">gini = 0.32</text>\n",
       "<text text-anchor=\"middle\" x=\"415\" y=\"-379.8\" font-family=\"Times,serif\" font-size=\"14.00\" fill=\"#000000\">samples = 5</text>\n",
       "<text text-anchor=\"middle\" x=\"415\" y=\"-364.8\" font-family=\"Times,serif\" font-size=\"14.00\" fill=\"#000000\">value = [4, 1]</text>\n",
       "<text text-anchor=\"middle\" x=\"415\" y=\"-349.8\" font-family=\"Times,serif\" font-size=\"14.00\" fill=\"#000000\">class = malignant</text>\n",
       "</g>\n",
       "<!-- 1&#45;&gt;7 -->\n",
       "<g id=\"edge7\" class=\"edge\">\n",
       "<title>1&#45;&gt;7</title>\n",
       "<path fill=\"none\" stroke=\"#000000\" d=\"M415,-460.8796C415,-452.6838 415,-443.9891 415,-435.5013\"/>\n",
       "<polygon fill=\"#000000\" stroke=\"#000000\" points=\"418.5001,-435.298 415,-425.2981 411.5001,-435.2981 418.5001,-435.298\"/>\n",
       "</g>\n",
       "<!-- 3 -->\n",
       "<g id=\"node4\" class=\"node\">\n",
       "<title>3</title>\n",
       "<polygon fill=\"#399de5\" stroke=\"#000000\" points=\"102,-298.5 0,-298.5 0,-230.5 102,-230.5 102,-298.5\"/>\n",
       "<text text-anchor=\"middle\" x=\"51\" y=\"-283.3\" font-family=\"Times,serif\" font-size=\"14.00\" fill=\"#000000\">gini = 0.0</text>\n",
       "<text text-anchor=\"middle\" x=\"51\" y=\"-268.3\" font-family=\"Times,serif\" font-size=\"14.00\" fill=\"#000000\">samples = 97</text>\n",
       "<text text-anchor=\"middle\" x=\"51\" y=\"-253.3\" font-family=\"Times,serif\" font-size=\"14.00\" fill=\"#000000\">value = [0, 97]</text>\n",
       "<text text-anchor=\"middle\" x=\"51\" y=\"-238.3\" font-family=\"Times,serif\" font-size=\"14.00\" fill=\"#000000\">class = benign</text>\n",
       "</g>\n",
       "<!-- 2&#45;&gt;3 -->\n",
       "<g id=\"edge3\" class=\"edge\">\n",
       "<title>2&#45;&gt;3</title>\n",
       "<path fill=\"none\" stroke=\"#000000\" d=\"M159.5915,-341.8796C142.536,-329.7263 123.9409,-316.4759 107.0359,-304.4297\"/>\n",
       "<polygon fill=\"#000000\" stroke=\"#000000\" points=\"109.062,-301.5759 98.8869,-298.623 104.9998,-307.2766 109.062,-301.5759\"/>\n",
       "</g>\n",
       "<!-- 4 -->\n",
       "<g id=\"node5\" class=\"node\">\n",
       "<title>4</title>\n",
       "<polygon fill=\"#65b3eb\" stroke=\"#000000\" points=\"315.5,-306 120.5,-306 120.5,-223 315.5,-223 315.5,-306\"/>\n",
       "<text text-anchor=\"middle\" x=\"218\" y=\"-290.8\" font-family=\"Times,serif\" font-size=\"14.00\" fill=\"#000000\">worst concave points &lt;= 0.092</text>\n",
       "<text text-anchor=\"middle\" x=\"218\" y=\"-275.8\" font-family=\"Times,serif\" font-size=\"14.00\" fill=\"#000000\">gini = 0.298</text>\n",
       "<text text-anchor=\"middle\" x=\"218\" y=\"-260.8\" font-family=\"Times,serif\" font-size=\"14.00\" fill=\"#000000\">samples = 11</text>\n",
       "<text text-anchor=\"middle\" x=\"218\" y=\"-245.8\" font-family=\"Times,serif\" font-size=\"14.00\" fill=\"#000000\">value = [2, 9]</text>\n",
       "<text text-anchor=\"middle\" x=\"218\" y=\"-230.8\" font-family=\"Times,serif\" font-size=\"14.00\" fill=\"#000000\">class = benign</text>\n",
       "</g>\n",
       "<!-- 2&#45;&gt;4 -->\n",
       "<g id=\"edge4\" class=\"edge\">\n",
       "<title>2&#45;&gt;4</title>\n",
       "<path fill=\"none\" stroke=\"#000000\" d=\"M218,-341.8796C218,-333.6838 218,-324.9891 218,-316.5013\"/>\n",
       "<polygon fill=\"#000000\" stroke=\"#000000\" points=\"221.5001,-316.298 218,-306.2981 214.5001,-316.2981 221.5001,-316.298\"/>\n",
       "</g>\n",
       "<!-- 5 -->\n",
       "<g id=\"node6\" class=\"node\">\n",
       "<title>5</title>\n",
       "<polygon fill=\"#399de5\" stroke=\"#000000\" points=\"204,-179.5 106,-179.5 106,-111.5 204,-111.5 204,-179.5\"/>\n",
       "<text text-anchor=\"middle\" x=\"155\" y=\"-164.3\" font-family=\"Times,serif\" font-size=\"14.00\" fill=\"#000000\">gini = 0.0</text>\n",
       "<text text-anchor=\"middle\" x=\"155\" y=\"-149.3\" font-family=\"Times,serif\" font-size=\"14.00\" fill=\"#000000\">samples = 9</text>\n",
       "<text text-anchor=\"middle\" x=\"155\" y=\"-134.3\" font-family=\"Times,serif\" font-size=\"14.00\" fill=\"#000000\">value = [0, 9]</text>\n",
       "<text text-anchor=\"middle\" x=\"155\" y=\"-119.3\" font-family=\"Times,serif\" font-size=\"14.00\" fill=\"#000000\">class = benign</text>\n",
       "</g>\n",
       "<!-- 4&#45;&gt;5 -->\n",
       "<g id=\"edge5\" class=\"edge\">\n",
       "<title>4&#45;&gt;5</title>\n",
       "<path fill=\"none\" stroke=\"#000000\" d=\"M195.9657,-222.8796C190.1442,-211.8835 183.8473,-199.9893 177.9773,-188.9015\"/>\n",
       "<polygon fill=\"#000000\" stroke=\"#000000\" points=\"180.9389,-187.0152 173.1667,-179.8149 174.7524,-190.2905 180.9389,-187.0152\"/>\n",
       "</g>\n",
       "<!-- 6 -->\n",
       "<g id=\"node7\" class=\"node\">\n",
       "<title>6</title>\n",
       "<polygon fill=\"#e58139\" stroke=\"#000000\" points=\"338,-179.5 222,-179.5 222,-111.5 338,-111.5 338,-179.5\"/>\n",
       "<text text-anchor=\"middle\" x=\"280\" y=\"-164.3\" font-family=\"Times,serif\" font-size=\"14.00\" fill=\"#000000\">gini = 0.0</text>\n",
       "<text text-anchor=\"middle\" x=\"280\" y=\"-149.3\" font-family=\"Times,serif\" font-size=\"14.00\" fill=\"#000000\">samples = 2</text>\n",
       "<text text-anchor=\"middle\" x=\"280\" y=\"-134.3\" font-family=\"Times,serif\" font-size=\"14.00\" fill=\"#000000\">value = [2, 0]</text>\n",
       "<text text-anchor=\"middle\" x=\"280\" y=\"-119.3\" font-family=\"Times,serif\" font-size=\"14.00\" fill=\"#000000\">class = malignant</text>\n",
       "</g>\n",
       "<!-- 4&#45;&gt;6 -->\n",
       "<g id=\"edge6\" class=\"edge\">\n",
       "<title>4&#45;&gt;6</title>\n",
       "<path fill=\"none\" stroke=\"#000000\" d=\"M239.6846,-222.8796C245.4136,-211.8835 251.6106,-199.9893 257.3874,-188.9015\"/>\n",
       "<polygon fill=\"#000000\" stroke=\"#000000\" points=\"260.605,-190.3007 262.1216,-179.8149 254.397,-187.0662 260.605,-190.3007\"/>\n",
       "</g>\n",
       "<!-- 8 -->\n",
       "<g id=\"node9\" class=\"node\">\n",
       "<title>8</title>\n",
       "<polygon fill=\"#399de5\" stroke=\"#000000\" points=\"431,-298.5 333,-298.5 333,-230.5 431,-230.5 431,-298.5\"/>\n",
       "<text text-anchor=\"middle\" x=\"382\" y=\"-283.3\" font-family=\"Times,serif\" font-size=\"14.00\" fill=\"#000000\">gini = 0.0</text>\n",
       "<text text-anchor=\"middle\" x=\"382\" y=\"-268.3\" font-family=\"Times,serif\" font-size=\"14.00\" fill=\"#000000\">samples = 1</text>\n",
       "<text text-anchor=\"middle\" x=\"382\" y=\"-253.3\" font-family=\"Times,serif\" font-size=\"14.00\" fill=\"#000000\">value = [0, 1]</text>\n",
       "<text text-anchor=\"middle\" x=\"382\" y=\"-238.3\" font-family=\"Times,serif\" font-size=\"14.00\" fill=\"#000000\">class = benign</text>\n",
       "</g>\n",
       "<!-- 7&#45;&gt;8 -->\n",
       "<g id=\"edge8\" class=\"edge\">\n",
       "<title>7&#45;&gt;8</title>\n",
       "<path fill=\"none\" stroke=\"#000000\" d=\"M403.4582,-341.8796C400.4699,-331.1034 397.2423,-319.4647 394.2205,-308.5677\"/>\n",
       "<polygon fill=\"#000000\" stroke=\"#000000\" points=\"397.561,-307.516 391.5159,-298.8149 390.8155,-309.3866 397.561,-307.516\"/>\n",
       "</g>\n",
       "<!-- 9 -->\n",
       "<g id=\"node10\" class=\"node\">\n",
       "<title>9</title>\n",
       "<polygon fill=\"#e58139\" stroke=\"#000000\" points=\"565,-298.5 449,-298.5 449,-230.5 565,-230.5 565,-298.5\"/>\n",
       "<text text-anchor=\"middle\" x=\"507\" y=\"-283.3\" font-family=\"Times,serif\" font-size=\"14.00\" fill=\"#000000\">gini = 0.0</text>\n",
       "<text text-anchor=\"middle\" x=\"507\" y=\"-268.3\" font-family=\"Times,serif\" font-size=\"14.00\" fill=\"#000000\">samples = 4</text>\n",
       "<text text-anchor=\"middle\" x=\"507\" y=\"-253.3\" font-family=\"Times,serif\" font-size=\"14.00\" fill=\"#000000\">value = [4, 0]</text>\n",
       "<text text-anchor=\"middle\" x=\"507\" y=\"-238.3\" font-family=\"Times,serif\" font-size=\"14.00\" fill=\"#000000\">class = malignant</text>\n",
       "</g>\n",
       "<!-- 7&#45;&gt;9 -->\n",
       "<g id=\"edge9\" class=\"edge\">\n",
       "<title>7&#45;&gt;9</title>\n",
       "<path fill=\"none\" stroke=\"#000000\" d=\"M447.1771,-341.8796C455.9333,-330.5536 465.4262,-318.2748 474.2156,-306.9058\"/>\n",
       "<polygon fill=\"#000000\" stroke=\"#000000\" points=\"477.1234,-308.8671 480.4708,-298.8149 471.5854,-304.5856 477.1234,-308.8671\"/>\n",
       "</g>\n",
       "<!-- 11 -->\n",
       "<g id=\"node12\" class=\"node\">\n",
       "<title>11</title>\n",
       "<polygon fill=\"#e68640\" stroke=\"#000000\" points=\"699.5,-425 564.5,-425 564.5,-342 699.5,-342 699.5,-425\"/>\n",
       "<text text-anchor=\"middle\" x=\"632\" y=\"-409.8\" font-family=\"Times,serif\" font-size=\"14.00\" fill=\"#000000\">area error &lt;= 13.475</text>\n",
       "<text text-anchor=\"middle\" x=\"632\" y=\"-394.8\" font-family=\"Times,serif\" font-size=\"14.00\" fill=\"#000000\">gini = 0.07</text>\n",
       "<text text-anchor=\"middle\" x=\"632\" y=\"-379.8\" font-family=\"Times,serif\" font-size=\"14.00\" fill=\"#000000\">samples = 55</text>\n",
       "<text text-anchor=\"middle\" x=\"632\" y=\"-364.8\" font-family=\"Times,serif\" font-size=\"14.00\" fill=\"#000000\">value = [53, 2]</text>\n",
       "<text text-anchor=\"middle\" x=\"632\" y=\"-349.8\" font-family=\"Times,serif\" font-size=\"14.00\" fill=\"#000000\">class = malignant</text>\n",
       "</g>\n",
       "<!-- 10&#45;&gt;11 -->\n",
       "<g id=\"edge11\" class=\"edge\">\n",
       "<title>10&#45;&gt;11</title>\n",
       "<path fill=\"none\" stroke=\"#000000\" d=\"M632,-460.8796C632,-452.6838 632,-443.9891 632,-435.5013\"/>\n",
       "<polygon fill=\"#000000\" stroke=\"#000000\" points=\"635.5001,-435.298 632,-425.2981 628.5001,-435.2981 635.5001,-435.298\"/>\n",
       "</g>\n",
       "<!-- 18 -->\n",
       "<g id=\"node19\" class=\"node\">\n",
       "<title>18</title>\n",
       "<polygon fill=\"#399de5\" stroke=\"#000000\" points=\"816,-417.5 718,-417.5 718,-349.5 816,-349.5 816,-417.5\"/>\n",
       "<text text-anchor=\"middle\" x=\"767\" y=\"-402.3\" font-family=\"Times,serif\" font-size=\"14.00\" fill=\"#000000\">gini = 0.0</text>\n",
       "<text text-anchor=\"middle\" x=\"767\" y=\"-387.3\" font-family=\"Times,serif\" font-size=\"14.00\" fill=\"#000000\">samples = 2</text>\n",
       "<text text-anchor=\"middle\" x=\"767\" y=\"-372.3\" font-family=\"Times,serif\" font-size=\"14.00\" fill=\"#000000\">value = [0, 2]</text>\n",
       "<text text-anchor=\"middle\" x=\"767\" y=\"-357.3\" font-family=\"Times,serif\" font-size=\"14.00\" fill=\"#000000\">class = benign</text>\n",
       "</g>\n",
       "<!-- 10&#45;&gt;18 -->\n",
       "<g id=\"edge18\" class=\"edge\">\n",
       "<title>10&#45;&gt;18</title>\n",
       "<path fill=\"none\" stroke=\"#000000\" d=\"M679.2164,-460.8796C692.5642,-449.1138 707.0785,-436.3197 720.3904,-424.5855\"/>\n",
       "<polygon fill=\"#000000\" stroke=\"#000000\" points=\"722.884,-427.0531 728.0713,-417.8149 718.2552,-421.8019 722.884,-427.0531\"/>\n",
       "</g>\n",
       "<!-- 12 -->\n",
       "<g id=\"node13\" class=\"node\">\n",
       "<title>12</title>\n",
       "<polygon fill=\"#399de5\" stroke=\"#000000\" points=\"681,-298.5 583,-298.5 583,-230.5 681,-230.5 681,-298.5\"/>\n",
       "<text text-anchor=\"middle\" x=\"632\" y=\"-283.3\" font-family=\"Times,serif\" font-size=\"14.00\" fill=\"#000000\">gini = 0.0</text>\n",
       "<text text-anchor=\"middle\" x=\"632\" y=\"-268.3\" font-family=\"Times,serif\" font-size=\"14.00\" fill=\"#000000\">samples = 1</text>\n",
       "<text text-anchor=\"middle\" x=\"632\" y=\"-253.3\" font-family=\"Times,serif\" font-size=\"14.00\" fill=\"#000000\">value = [0, 1]</text>\n",
       "<text text-anchor=\"middle\" x=\"632\" y=\"-238.3\" font-family=\"Times,serif\" font-size=\"14.00\" fill=\"#000000\">class = benign</text>\n",
       "</g>\n",
       "<!-- 11&#45;&gt;12 -->\n",
       "<g id=\"edge12\" class=\"edge\">\n",
       "<title>11&#45;&gt;12</title>\n",
       "<path fill=\"none\" stroke=\"#000000\" d=\"M632,-341.8796C632,-331.2134 632,-319.7021 632,-308.9015\"/>\n",
       "<polygon fill=\"#000000\" stroke=\"#000000\" points=\"635.5001,-308.8149 632,-298.8149 628.5001,-308.815 635.5001,-308.8149\"/>\n",
       "</g>\n",
       "<!-- 13 -->\n",
       "<g id=\"node14\" class=\"node\">\n",
       "<title>13</title>\n",
       "<polygon fill=\"#e5833d\" stroke=\"#000000\" points=\"880.5,-306 699.5,-306 699.5,-223 880.5,-223 880.5,-306\"/>\n",
       "<text text-anchor=\"middle\" x=\"790\" y=\"-290.8\" font-family=\"Times,serif\" font-size=\"14.00\" fill=\"#000000\">mean compactness &lt;= 0.102</text>\n",
       "<text text-anchor=\"middle\" x=\"790\" y=\"-275.8\" font-family=\"Times,serif\" font-size=\"14.00\" fill=\"#000000\">gini = 0.036</text>\n",
       "<text text-anchor=\"middle\" x=\"790\" y=\"-260.8\" font-family=\"Times,serif\" font-size=\"14.00\" fill=\"#000000\">samples = 54</text>\n",
       "<text text-anchor=\"middle\" x=\"790\" y=\"-245.8\" font-family=\"Times,serif\" font-size=\"14.00\" fill=\"#000000\">value = [53, 1]</text>\n",
       "<text text-anchor=\"middle\" x=\"790\" y=\"-230.8\" font-family=\"Times,serif\" font-size=\"14.00\" fill=\"#000000\">class = malignant</text>\n",
       "</g>\n",
       "<!-- 11&#45;&gt;13 -->\n",
       "<g id=\"edge13\" class=\"edge\">\n",
       "<title>11&#45;&gt;13</title>\n",
       "<path fill=\"none\" stroke=\"#000000\" d=\"M687.2607,-341.8796C700.0099,-332.2774 713.6683,-321.9903 726.7291,-312.1534\"/>\n",
       "<polygon fill=\"#000000\" stroke=\"#000000\" points=\"728.8883,-314.9089 734.7705,-306.0969 724.6769,-309.3174 728.8883,-314.9089\"/>\n",
       "</g>\n",
       "<!-- 14 -->\n",
       "<g id=\"node15\" class=\"node\">\n",
       "<title>14</title>\n",
       "<polygon fill=\"#ffffff\" stroke=\"#000000\" points=\"800.5,-187 605.5,-187 605.5,-104 800.5,-104 800.5,-187\"/>\n",
       "<text text-anchor=\"middle\" x=\"703\" y=\"-171.8\" font-family=\"Times,serif\" font-size=\"14.00\" fill=\"#000000\">worst concave points &lt;= 0.171</text>\n",
       "<text text-anchor=\"middle\" x=\"703\" y=\"-156.8\" font-family=\"Times,serif\" font-size=\"14.00\" fill=\"#000000\">gini = 0.5</text>\n",
       "<text text-anchor=\"middle\" x=\"703\" y=\"-141.8\" font-family=\"Times,serif\" font-size=\"14.00\" fill=\"#000000\">samples = 2</text>\n",
       "<text text-anchor=\"middle\" x=\"703\" y=\"-126.8\" font-family=\"Times,serif\" font-size=\"14.00\" fill=\"#000000\">value = [1, 1]</text>\n",
       "<text text-anchor=\"middle\" x=\"703\" y=\"-111.8\" font-family=\"Times,serif\" font-size=\"14.00\" fill=\"#000000\">class = malignant</text>\n",
       "</g>\n",
       "<!-- 13&#45;&gt;14 -->\n",
       "<g id=\"edge14\" class=\"edge\">\n",
       "<title>13&#45;&gt;14</title>\n",
       "<path fill=\"none\" stroke=\"#000000\" d=\"M759.5716,-222.8796C753.1189,-214.0534 746.243,-204.6485 739.5887,-195.5466\"/>\n",
       "<polygon fill=\"#000000\" stroke=\"#000000\" points=\"742.2856,-193.3051 733.5583,-187.2981 736.6347,-197.4364 742.2856,-193.3051\"/>\n",
       "</g>\n",
       "<!-- 17 -->\n",
       "<g id=\"node18\" class=\"node\">\n",
       "<title>17</title>\n",
       "<polygon fill=\"#e58139\" stroke=\"#000000\" points=\"934,-179.5 818,-179.5 818,-111.5 934,-111.5 934,-179.5\"/>\n",
       "<text text-anchor=\"middle\" x=\"876\" y=\"-164.3\" font-family=\"Times,serif\" font-size=\"14.00\" fill=\"#000000\">gini = 0.0</text>\n",
       "<text text-anchor=\"middle\" x=\"876\" y=\"-149.3\" font-family=\"Times,serif\" font-size=\"14.00\" fill=\"#000000\">samples = 52</text>\n",
       "<text text-anchor=\"middle\" x=\"876\" y=\"-134.3\" font-family=\"Times,serif\" font-size=\"14.00\" fill=\"#000000\">value = [52, 0]</text>\n",
       "<text text-anchor=\"middle\" x=\"876\" y=\"-119.3\" font-family=\"Times,serif\" font-size=\"14.00\" fill=\"#000000\">class = malignant</text>\n",
       "</g>\n",
       "<!-- 13&#45;&gt;17 -->\n",
       "<g id=\"edge17\" class=\"edge\">\n",
       "<title>13&#45;&gt;17</title>\n",
       "<path fill=\"none\" stroke=\"#000000\" d=\"M820.0786,-222.8796C828.1843,-211.6636 836.9653,-199.5131 845.1143,-188.2372\"/>\n",
       "<polygon fill=\"#000000\" stroke=\"#000000\" points=\"848.1803,-189.9701 851.201,-179.8149 842.5068,-185.8698 848.1803,-189.9701\"/>\n",
       "</g>\n",
       "<!-- 15 -->\n",
       "<g id=\"node16\" class=\"node\">\n",
       "<title>15</title>\n",
       "<polygon fill=\"#399de5\" stroke=\"#000000\" points=\"689,-68 591,-68 591,0 689,0 689,-68\"/>\n",
       "<text text-anchor=\"middle\" x=\"640\" y=\"-52.8\" font-family=\"Times,serif\" font-size=\"14.00\" fill=\"#000000\">gini = 0.0</text>\n",
       "<text text-anchor=\"middle\" x=\"640\" y=\"-37.8\" font-family=\"Times,serif\" font-size=\"14.00\" fill=\"#000000\">samples = 1</text>\n",
       "<text text-anchor=\"middle\" x=\"640\" y=\"-22.8\" font-family=\"Times,serif\" font-size=\"14.00\" fill=\"#000000\">value = [0, 1]</text>\n",
       "<text text-anchor=\"middle\" x=\"640\" y=\"-7.8\" font-family=\"Times,serif\" font-size=\"14.00\" fill=\"#000000\">class = benign</text>\n",
       "</g>\n",
       "<!-- 14&#45;&gt;15 -->\n",
       "<g id=\"edge15\" class=\"edge\">\n",
       "<title>14&#45;&gt;15</title>\n",
       "<path fill=\"none\" stroke=\"#000000\" d=\"M679.5411,-103.9815C674.6078,-95.2504 669.3926,-86.0202 664.4248,-77.2281\"/>\n",
       "<polygon fill=\"#000000\" stroke=\"#000000\" points=\"667.3263,-75.2483 659.3597,-68.2637 661.2319,-78.6918 667.3263,-75.2483\"/>\n",
       "</g>\n",
       "<!-- 16 -->\n",
       "<g id=\"node17\" class=\"node\">\n",
       "<title>16</title>\n",
       "<polygon fill=\"#e58139\" stroke=\"#000000\" points=\"823,-68 707,-68 707,0 823,0 823,-68\"/>\n",
       "<text text-anchor=\"middle\" x=\"765\" y=\"-52.8\" font-family=\"Times,serif\" font-size=\"14.00\" fill=\"#000000\">gini = 0.0</text>\n",
       "<text text-anchor=\"middle\" x=\"765\" y=\"-37.8\" font-family=\"Times,serif\" font-size=\"14.00\" fill=\"#000000\">samples = 1</text>\n",
       "<text text-anchor=\"middle\" x=\"765\" y=\"-22.8\" font-family=\"Times,serif\" font-size=\"14.00\" fill=\"#000000\">value = [1, 0]</text>\n",
       "<text text-anchor=\"middle\" x=\"765\" y=\"-7.8\" font-family=\"Times,serif\" font-size=\"14.00\" fill=\"#000000\">class = malignant</text>\n",
       "</g>\n",
       "<!-- 14&#45;&gt;16 -->\n",
       "<g id=\"edge16\" class=\"edge\">\n",
       "<title>14&#45;&gt;16</title>\n",
       "<path fill=\"none\" stroke=\"#000000\" d=\"M726.0865,-103.9815C730.9415,-95.2504 736.074,-86.0202 740.9629,-77.2281\"/>\n",
       "<polygon fill=\"#000000\" stroke=\"#000000\" points=\"744.1467,-78.7043 745.9476,-68.2637 738.0288,-75.3025 744.1467,-78.7043\"/>\n",
       "</g>\n",
       "</g>\n",
       "</svg>\n"
      ],
      "text/plain": [
       "<graphviz.files.Source at 0x7f3d40335450>"
      ]
     },
     "execution_count": 13,
     "metadata": {
      "tags": []
     },
     "output_type": "execute_result"
    }
   ],
   "source": [
    "print('[ max_depth의 제약이 없는 경우의 Decision Tree 시각화 ]')\n",
    "# 위에서 생성된 tree.dot 파일을 Graphiviz 가 읽어서 시각화\n",
    "with open(\"tree.dot\") as f:\n",
    "    dot_graph = f.read()\n",
    "graphviz.Source(dot_graph)"
   ]
  },
  {
   "cell_type": "markdown",
   "metadata": {
    "id": "FxNrQ3Cqo7uh"
   },
   "source": [
    "- gini : 다음의 value=[]로 주어진 데이터 분포에서의 지니계수\n",
    "- samples : 현 규칙에 해당하는 데이터 건수\n",
    "- value=[] : 클래스 값(y label)에 해당하는 데이터 건수"
   ]
  },
  {
   "cell_type": "markdown",
   "metadata": {
    "id": "IOx6doOdp9vu"
   },
   "source": [
    "# 4. 의사결정나무 모델 테스트"
   ]
  },
  {
   "cell_type": "code",
   "execution_count": 14,
   "metadata": {
    "executionInfo": {
     "elapsed": 771,
     "status": "ok",
     "timestamp": 1616656677022,
     "user": {
      "displayName": "고해지",
      "photoUrl": "",
      "userId": "12709063932312169253"
     },
     "user_tz": -540
    },
    "id": "supreme-array"
   },
   "outputs": [],
   "source": [
    "y_pred = dt_clf.predict(x_test) "
   ]
  },
  {
   "cell_type": "code",
   "execution_count": 19,
   "metadata": {
    "colab": {
     "base_uri": "https://localhost:8080/"
    },
    "executionInfo": {
     "elapsed": 796,
     "status": "ok",
     "timestamp": 1616656701390,
     "user": {
      "displayName": "고해지",
      "photoUrl": "",
      "userId": "12709063932312169253"
     },
     "user_tz": -540
    },
    "id": "BsxJoB5-qZQ6",
    "outputId": "a4a518e2-c17b-400e-907d-796ef297e9b5"
   },
   "outputs": [
    {
     "name": "stdout",
     "output_type": "stream",
     "text": [
      "Train_Accuracy :  1.0 \n",
      "\n",
      "Test_Accuracy :  0.9298245614035088 \n",
      "\n",
      "Accuracy:  0.93 \n",
      "\n",
      "Recall:  0.98 \n",
      "\n",
      "Precision:  0.92 \n",
      "\n",
      "F1_score:  0.94 \n",
      "\n",
      "Confusion Matrix: \n",
      " [[131  22]\n",
      " [  6 240]]\n"
     ]
    }
   ],
   "source": [
    "\n",
    "# 학습결과 평가\n",
    "print(\"Train_Accuracy : \", dt_clf.score(x_train, y_train), '\\n')\n",
    "print(\"Test_Accuracy : \", dt_clf.score(x_test, y_test), '\\n')\n",
    "\n",
    "accuracy = mt.accuracy_score(y_test, y_pred)\n",
    "recall = mt.recall_score(y_test, y_pred)\n",
    "precision = mt.precision_score(y_test, y_pred)\n",
    "f1_score = mt.f1_score(y_test, y_pred)\n",
    "matrix = mt.confusion_matrix(y_test, y_pred)\n",
    "\n",
    "print('Accuracy: ', format(accuracy,'.2f'),'\\n')\n",
    "print('Recall: ', format(recall,'.2f'),'\\n')\n",
    "print('Precision: ', format(precision,'.2f'),'\\n')\n",
    "print('F1_score: ', format(f1_score,'.2f'),'\\n')\n",
    "print('Confusion Matrix:','\\n', matrix)"
   ]
  },
  {
   "cell_type": "markdown",
   "metadata": {
    "id": "xDtL22_dqhX1"
   },
   "source": [
    "# Cross Validation"
   ]
  },
  {
   "cell_type": "code",
   "execution_count": 21,
   "metadata": {
    "colab": {
     "base_uri": "https://localhost:8080/"
    },
    "executionInfo": {
     "elapsed": 1346,
     "status": "ok",
     "timestamp": 1616656744355,
     "user": {
      "displayName": "고해지",
      "photoUrl": "",
      "userId": "12709063932312169253"
     },
     "user_tz": -540
    },
    "id": "flG0CwtYqljt",
    "outputId": "89201be5-813d-4f57-db09-27f08e53f822"
   },
   "outputs": [
    {
     "name": "stdout",
     "output_type": "stream",
     "text": [
      "교차검증 평균:  0.9173265020959478\n"
     ]
    }
   ],
   "source": [
    "# 교차검증\n",
    "\n",
    "x = cancer.data\n",
    "y = cancer.target\n",
    "\n",
    "# 각 폴드의 스코어 \n",
    "scores = cross_val_score(dt_clf, x, y, cv = 5)\n",
    "\n",
    "print('교차검증 평균: ', scores.mean())"
   ]
  },
  {
   "cell_type": "code",
   "execution_count": 22,
   "metadata": {
    "colab": {
     "base_uri": "https://localhost:8080/",
     "height": 204
    },
    "executionInfo": {
     "elapsed": 1441,
     "status": "ok",
     "timestamp": 1616656751357,
     "user": {
      "displayName": "고해지",
      "photoUrl": "",
      "userId": "12709063932312169253"
     },
     "user_tz": -540
    },
    "id": "qmMv_JQ7vn66",
    "outputId": "854650d6-3a2d-4075-ec65-d87b6bc432d6"
   },
   "outputs": [
    {
     "data": {
      "text/html": [
       "<div>\n",
       "<style scoped>\n",
       "    .dataframe tbody tr th:only-of-type {\n",
       "        vertical-align: middle;\n",
       "    }\n",
       "\n",
       "    .dataframe tbody tr th {\n",
       "        vertical-align: top;\n",
       "    }\n",
       "\n",
       "    .dataframe thead th {\n",
       "        text-align: right;\n",
       "    }\n",
       "</style>\n",
       "<table border=\"1\" class=\"dataframe\">\n",
       "  <thead>\n",
       "    <tr style=\"text-align: right;\">\n",
       "      <th></th>\n",
       "      <th>fit_time</th>\n",
       "      <th>score_time</th>\n",
       "      <th>test_score</th>\n",
       "    </tr>\n",
       "  </thead>\n",
       "  <tbody>\n",
       "    <tr>\n",
       "      <th>0</th>\n",
       "      <td>0.012524</td>\n",
       "      <td>0.001327</td>\n",
       "      <td>0.912281</td>\n",
       "    </tr>\n",
       "    <tr>\n",
       "      <th>1</th>\n",
       "      <td>0.007604</td>\n",
       "      <td>0.000575</td>\n",
       "      <td>0.921053</td>\n",
       "    </tr>\n",
       "    <tr>\n",
       "      <th>2</th>\n",
       "      <td>0.007788</td>\n",
       "      <td>0.000490</td>\n",
       "      <td>0.921053</td>\n",
       "    </tr>\n",
       "    <tr>\n",
       "      <th>3</th>\n",
       "      <td>0.009310</td>\n",
       "      <td>0.000587</td>\n",
       "      <td>0.956140</td>\n",
       "    </tr>\n",
       "    <tr>\n",
       "      <th>4</th>\n",
       "      <td>0.010230</td>\n",
       "      <td>0.001003</td>\n",
       "      <td>0.876106</td>\n",
       "    </tr>\n",
       "  </tbody>\n",
       "</table>\n",
       "</div>"
      ],
      "text/plain": [
       "   fit_time  score_time  test_score\n",
       "0  0.012524    0.001327    0.912281\n",
       "1  0.007604    0.000575    0.921053\n",
       "2  0.007788    0.000490    0.921053\n",
       "3  0.009310    0.000587    0.956140\n",
       "4  0.010230    0.001003    0.876106"
      ]
     },
     "execution_count": 22,
     "metadata": {
      "tags": []
     },
     "output_type": "execute_result"
    }
   ],
   "source": [
    "pd.DataFrame(cross_validate(dt_clf, x, y, cv =5))"
   ]
  },
  {
   "cell_type": "code",
   "execution_count": 24,
   "metadata": {
    "colab": {
     "base_uri": "https://localhost:8080/"
    },
    "executionInfo": {
     "elapsed": 1355,
     "status": "ok",
     "timestamp": 1616656785170,
     "user": {
      "displayName": "고해지",
      "photoUrl": "",
      "userId": "12709063932312169253"
     },
     "user_tz": -540
    },
    "id": "6_rmVzT19Zxl",
    "outputId": "98743d2a-2a47-4f02-beb1-20dc038bb530"
   },
   "outputs": [
    {
     "data": {
      "text/plain": [
       "0.9298245614035088"
      ]
     },
     "execution_count": 24,
     "metadata": {
      "tags": []
     },
     "output_type": "execute_result"
    }
   ],
   "source": [
    "# test set에 대한 스코어(정확도)\n",
    "dt_clf.score(x_test, y_test)"
   ]
  },
  {
   "cell_type": "markdown",
   "metadata": {
    "id": "GSU_J9RBqmdM"
   },
   "source": [
    "# 5. 가지치기 수행 (Pruning phase)"
   ]
  },
  {
   "cell_type": "code",
   "execution_count": 25,
   "metadata": {
    "colab": {
     "base_uri": "https://localhost:8080/"
    },
    "executionInfo": {
     "elapsed": 596,
     "status": "ok",
     "timestamp": 1616656797693,
     "user": {
      "displayName": "고해지",
      "photoUrl": "",
      "userId": "12709063932312169253"
     },
     "user_tz": -540
    },
    "id": "UulsN7VCqpmU",
    "outputId": "c0c2731b-e7cc-4229-f843-6319ac0121e4"
   },
   "outputs": [
    {
     "name": "stdout",
     "output_type": "stream",
     "text": [
      "훈련 세트 정확도: 0.9706\n",
      "테스트 세트 정확도: 0.9424\n"
     ]
    }
   ],
   "source": [
    "pruned_dt_clf = DecisionTreeClassifier(max_depth=2, random_state=156) # max_depth=3으로 제한\n",
    "pruned_dt_clf .fit(x_train, y_train)\n",
    "\n",
    "print(\"훈련 세트 정확도: {:.4f}\".format(pruned_dt_clf.score(x_train, y_train)))\n",
    "print(\"테스트 세트 정확도: {:.4f}\".format(pruned_dt_clf.score(x_test, y_test)))\n"
   ]
  },
  {
   "cell_type": "markdown",
   "metadata": {
    "id": "c5pyS1rcQV7D"
   },
   "source": [
    "> 가지치기 수행 전보다 test set에 대한 정확도가 향상됨을 확인할 수 있다. (0.9298 -> 0.9706)"
   ]
  },
  {
   "cell_type": "code",
   "execution_count": 28,
   "metadata": {
    "executionInfo": {
     "elapsed": 731,
     "status": "ok",
     "timestamp": 1616656903505,
     "user": {
      "displayName": "고해지",
      "photoUrl": "",
      "userId": "12709063932312169253"
     },
     "user_tz": -540
    },
    "id": "SlK2rVR08JcA"
   },
   "outputs": [],
   "source": [
    "# export_graphviz( )의 호출 결과로 out_file로 지정된 tree.dot 파일을 생성함\n",
    "export_graphviz(pruned_dt_clf, out_file=\"prunedtree.dot\", class_names = cancer.target_names, feature_names = cancer.feature_names, impurity=True, filled=True)"
   ]
  },
  {
   "cell_type": "code",
   "execution_count": 31,
   "metadata": {
    "colab": {
     "base_uri": "https://localhost:8080/",
     "height": 457
    },
    "executionInfo": {
     "elapsed": 606,
     "status": "ok",
     "timestamp": 1616656962037,
     "user": {
      "displayName": "고해지",
      "photoUrl": "",
      "userId": "12709063932312169253"
     },
     "user_tz": -540
    },
    "id": "lLIS-tv790is",
    "outputId": "24d31d01-1f03-474a-f184-9323478fbb9b"
   },
   "outputs": [
    {
     "name": "stdout",
     "output_type": "stream",
     "text": [
      "[ max_depth가 2인 경우의 Decision Tree 시각화 ]\n"
     ]
    },
    {
     "data": {
      "image/svg+xml": [
       "<?xml version=\"1.0\" encoding=\"UTF-8\" standalone=\"no\"?>\n",
       "<!DOCTYPE svg PUBLIC \"-//W3C//DTD SVG 1.1//EN\"\n",
       " \"http://www.w3.org/Graphics/SVG/1.1/DTD/svg11.dtd\">\n",
       "<!-- Generated by graphviz version 2.40.1 (20161225.0304)\n",
       " -->\n",
       "<!-- Title: Tree Pages: 1 -->\n",
       "<svg width=\"530pt\" height=\"314pt\"\n",
       " viewBox=\"0.00 0.00 530.00 314.00\" xmlns=\"http://www.w3.org/2000/svg\" xmlns:xlink=\"http://www.w3.org/1999/xlink\">\n",
       "<g id=\"graph0\" class=\"graph\" transform=\"scale(1 1) rotate(0) translate(4 310)\">\n",
       "<title>Tree</title>\n",
       "<polygon fill=\"#ffffff\" stroke=\"transparent\" points=\"-4,4 -4,-310 526,-310 526,4 -4,4\"/>\n",
       "<!-- 0 -->\n",
       "<g id=\"node1\" class=\"node\">\n",
       "<title>0</title>\n",
       "<polygon fill=\"#a2d1f3\" stroke=\"#000000\" points=\"364.5,-306 169.5,-306 169.5,-223 364.5,-223 364.5,-306\"/>\n",
       "<text text-anchor=\"middle\" x=\"267\" y=\"-290.8\" font-family=\"Times,serif\" font-size=\"14.00\" fill=\"#000000\">worst concave points &lt;= 0.145</text>\n",
       "<text text-anchor=\"middle\" x=\"267\" y=\"-275.8\" font-family=\"Times,serif\" font-size=\"14.00\" fill=\"#000000\">gini = 0.453</text>\n",
       "<text text-anchor=\"middle\" x=\"267\" y=\"-260.8\" font-family=\"Times,serif\" font-size=\"14.00\" fill=\"#000000\">samples = 170</text>\n",
       "<text text-anchor=\"middle\" x=\"267\" y=\"-245.8\" font-family=\"Times,serif\" font-size=\"14.00\" fill=\"#000000\">value = [59, 111]</text>\n",
       "<text text-anchor=\"middle\" x=\"267\" y=\"-230.8\" font-family=\"Times,serif\" font-size=\"14.00\" fill=\"#000000\">class = benign</text>\n",
       "</g>\n",
       "<!-- 1 -->\n",
       "<g id=\"node2\" class=\"node\">\n",
       "<title>1</title>\n",
       "<polygon fill=\"#44a2e6\" stroke=\"#000000\" points=\"242,-187 102,-187 102,-104 242,-104 242,-187\"/>\n",
       "<text text-anchor=\"middle\" x=\"172\" y=\"-171.8\" font-family=\"Times,serif\" font-size=\"14.00\" fill=\"#000000\">worst area &lt;= 893.65</text>\n",
       "<text text-anchor=\"middle\" x=\"172\" y=\"-156.8\" font-family=\"Times,serif\" font-size=\"14.00\" fill=\"#000000\">gini = 0.101</text>\n",
       "<text text-anchor=\"middle\" x=\"172\" y=\"-141.8\" font-family=\"Times,serif\" font-size=\"14.00\" fill=\"#000000\">samples = 113</text>\n",
       "<text text-anchor=\"middle\" x=\"172\" y=\"-126.8\" font-family=\"Times,serif\" font-size=\"14.00\" fill=\"#000000\">value = [6, 107]</text>\n",
       "<text text-anchor=\"middle\" x=\"172\" y=\"-111.8\" font-family=\"Times,serif\" font-size=\"14.00\" fill=\"#000000\">class = benign</text>\n",
       "</g>\n",
       "<!-- 0&#45;&gt;1 -->\n",
       "<g id=\"edge1\" class=\"edge\">\n",
       "<title>0&#45;&gt;1</title>\n",
       "<path fill=\"none\" stroke=\"#000000\" d=\"M233.7736,-222.8796C226.6556,-213.9633 219.0661,-204.4565 211.7308,-195.268\"/>\n",
       "<polygon fill=\"#000000\" stroke=\"#000000\" points=\"214.3425,-192.9295 205.3682,-187.2981 208.8719,-197.2968 214.3425,-192.9295\"/>\n",
       "<text text-anchor=\"middle\" x=\"202.5819\" y=\"-208.4423\" font-family=\"Times,serif\" font-size=\"14.00\" fill=\"#000000\">True</text>\n",
       "</g>\n",
       "<!-- 4 -->\n",
       "<g id=\"node5\" class=\"node\">\n",
       "<title>4</title>\n",
       "<polygon fill=\"#e78b48\" stroke=\"#000000\" points=\"463.5,-187 260.5,-187 260.5,-104 463.5,-104 463.5,-187\"/>\n",
       "<text text-anchor=\"middle\" x=\"362\" y=\"-171.8\" font-family=\"Times,serif\" font-size=\"14.00\" fill=\"#000000\">fractal dimension error &lt;= 0.013</text>\n",
       "<text text-anchor=\"middle\" x=\"362\" y=\"-156.8\" font-family=\"Times,serif\" font-size=\"14.00\" fill=\"#000000\">gini = 0.131</text>\n",
       "<text text-anchor=\"middle\" x=\"362\" y=\"-141.8\" font-family=\"Times,serif\" font-size=\"14.00\" fill=\"#000000\">samples = 57</text>\n",
       "<text text-anchor=\"middle\" x=\"362\" y=\"-126.8\" font-family=\"Times,serif\" font-size=\"14.00\" fill=\"#000000\">value = [53, 4]</text>\n",
       "<text text-anchor=\"middle\" x=\"362\" y=\"-111.8\" font-family=\"Times,serif\" font-size=\"14.00\" fill=\"#000000\">class = malignant</text>\n",
       "</g>\n",
       "<!-- 0&#45;&gt;4 -->\n",
       "<g id=\"edge4\" class=\"edge\">\n",
       "<title>0&#45;&gt;4</title>\n",
       "<path fill=\"none\" stroke=\"#000000\" d=\"M300.2264,-222.8796C307.3444,-213.9633 314.9339,-204.4565 322.2692,-195.268\"/>\n",
       "<polygon fill=\"#000000\" stroke=\"#000000\" points=\"325.1281,-197.2968 328.6318,-187.2981 319.6575,-192.9295 325.1281,-197.2968\"/>\n",
       "<text text-anchor=\"middle\" x=\"331.4181\" y=\"-208.4423\" font-family=\"Times,serif\" font-size=\"14.00\" fill=\"#000000\">False</text>\n",
       "</g>\n",
       "<!-- 2 -->\n",
       "<g id=\"node3\" class=\"node\">\n",
       "<title>2</title>\n",
       "<polygon fill=\"#3d9fe5\" stroke=\"#000000\" points=\"110,-68 0,-68 0,0 110,0 110,-68\"/>\n",
       "<text text-anchor=\"middle\" x=\"55\" y=\"-52.8\" font-family=\"Times,serif\" font-size=\"14.00\" fill=\"#000000\">gini = 0.036</text>\n",
       "<text text-anchor=\"middle\" x=\"55\" y=\"-37.8\" font-family=\"Times,serif\" font-size=\"14.00\" fill=\"#000000\">samples = 108</text>\n",
       "<text text-anchor=\"middle\" x=\"55\" y=\"-22.8\" font-family=\"Times,serif\" font-size=\"14.00\" fill=\"#000000\">value = [2, 106]</text>\n",
       "<text text-anchor=\"middle\" x=\"55\" y=\"-7.8\" font-family=\"Times,serif\" font-size=\"14.00\" fill=\"#000000\">class = benign</text>\n",
       "</g>\n",
       "<!-- 1&#45;&gt;2 -->\n",
       "<g id=\"edge2\" class=\"edge\">\n",
       "<title>1&#45;&gt;2</title>\n",
       "<path fill=\"none\" stroke=\"#000000\" d=\"M128.4335,-103.9815C118.5966,-94.607 108.156,-84.6572 98.3289,-75.2921\"/>\n",
       "<polygon fill=\"#000000\" stroke=\"#000000\" points=\"100.6076,-72.6289 90.9538,-68.2637 95.7784,-77.6963 100.6076,-72.6289\"/>\n",
       "</g>\n",
       "<!-- 3 -->\n",
       "<g id=\"node4\" class=\"node\">\n",
       "<title>3</title>\n",
       "<polygon fill=\"#eca06a\" stroke=\"#000000\" points=\"244,-68 128,-68 128,0 244,0 244,-68\"/>\n",
       "<text text-anchor=\"middle\" x=\"186\" y=\"-52.8\" font-family=\"Times,serif\" font-size=\"14.00\" fill=\"#000000\">gini = 0.32</text>\n",
       "<text text-anchor=\"middle\" x=\"186\" y=\"-37.8\" font-family=\"Times,serif\" font-size=\"14.00\" fill=\"#000000\">samples = 5</text>\n",
       "<text text-anchor=\"middle\" x=\"186\" y=\"-22.8\" font-family=\"Times,serif\" font-size=\"14.00\" fill=\"#000000\">value = [4, 1]</text>\n",
       "<text text-anchor=\"middle\" x=\"186\" y=\"-7.8\" font-family=\"Times,serif\" font-size=\"14.00\" fill=\"#000000\">class = malignant</text>\n",
       "</g>\n",
       "<!-- 1&#45;&gt;3 -->\n",
       "<g id=\"edge3\" class=\"edge\">\n",
       "<title>1&#45;&gt;3</title>\n",
       "<path fill=\"none\" stroke=\"#000000\" d=\"M177.2131,-103.9815C178.2632,-95.618 179.3708,-86.7965 180.4325,-78.3409\"/>\n",
       "<polygon fill=\"#000000\" stroke=\"#000000\" points=\"183.9247,-78.6218 181.6978,-68.2637 176.9792,-77.7497 183.9247,-78.6218\"/>\n",
       "</g>\n",
       "<!-- 5 -->\n",
       "<g id=\"node6\" class=\"node\">\n",
       "<title>5</title>\n",
       "<polygon fill=\"#e68640\" stroke=\"#000000\" points=\"406,-68 290,-68 290,0 406,0 406,-68\"/>\n",
       "<text text-anchor=\"middle\" x=\"348\" y=\"-52.8\" font-family=\"Times,serif\" font-size=\"14.00\" fill=\"#000000\">gini = 0.07</text>\n",
       "<text text-anchor=\"middle\" x=\"348\" y=\"-37.8\" font-family=\"Times,serif\" font-size=\"14.00\" fill=\"#000000\">samples = 55</text>\n",
       "<text text-anchor=\"middle\" x=\"348\" y=\"-22.8\" font-family=\"Times,serif\" font-size=\"14.00\" fill=\"#000000\">value = [53, 2]</text>\n",
       "<text text-anchor=\"middle\" x=\"348\" y=\"-7.8\" font-family=\"Times,serif\" font-size=\"14.00\" fill=\"#000000\">class = malignant</text>\n",
       "</g>\n",
       "<!-- 4&#45;&gt;5 -->\n",
       "<g id=\"edge5\" class=\"edge\">\n",
       "<title>4&#45;&gt;5</title>\n",
       "<path fill=\"none\" stroke=\"#000000\" d=\"M356.7869,-103.9815C355.7368,-95.618 354.6292,-86.7965 353.5675,-78.3409\"/>\n",
       "<polygon fill=\"#000000\" stroke=\"#000000\" points=\"357.0208,-77.7497 352.3022,-68.2637 350.0753,-78.6218 357.0208,-77.7497\"/>\n",
       "</g>\n",
       "<!-- 6 -->\n",
       "<g id=\"node7\" class=\"node\">\n",
       "<title>6</title>\n",
       "<polygon fill=\"#399de5\" stroke=\"#000000\" points=\"522,-68 424,-68 424,0 522,0 522,-68\"/>\n",
       "<text text-anchor=\"middle\" x=\"473\" y=\"-52.8\" font-family=\"Times,serif\" font-size=\"14.00\" fill=\"#000000\">gini = 0.0</text>\n",
       "<text text-anchor=\"middle\" x=\"473\" y=\"-37.8\" font-family=\"Times,serif\" font-size=\"14.00\" fill=\"#000000\">samples = 2</text>\n",
       "<text text-anchor=\"middle\" x=\"473\" y=\"-22.8\" font-family=\"Times,serif\" font-size=\"14.00\" fill=\"#000000\">value = [0, 2]</text>\n",
       "<text text-anchor=\"middle\" x=\"473\" y=\"-7.8\" font-family=\"Times,serif\" font-size=\"14.00\" fill=\"#000000\">class = benign</text>\n",
       "</g>\n",
       "<!-- 4&#45;&gt;6 -->\n",
       "<g id=\"edge6\" class=\"edge\">\n",
       "<title>4&#45;&gt;6</title>\n",
       "<path fill=\"none\" stroke=\"#000000\" d=\"M403.3323,-103.9815C412.5733,-94.6989 422.3758,-84.8522 431.6187,-75.5677\"/>\n",
       "<polygon fill=\"#000000\" stroke=\"#000000\" points=\"434.3152,-77.82 438.89,-68.2637 429.3543,-72.8813 434.3152,-77.82\"/>\n",
       "</g>\n",
       "</g>\n",
       "</svg>\n"
      ],
      "text/plain": [
       "<graphviz.files.Source at 0x7f3d40253610>"
      ]
     },
     "execution_count": 31,
     "metadata": {
      "tags": []
     },
     "output_type": "execute_result"
    }
   ],
   "source": [
    "print('[ max_depth가 2인 경우의 Decision Tree 시각화 ]')\n",
    "# 위에서 생성된 tree.dot 파일을 Graphiviz 가 읽어서 시각화\n",
    "with open(\"prunedtree.dot\") as f:\n",
    "    dot_graph = f.read()\n",
    "graphviz.Source(dot_graph)"
   ]
  },
  {
   "cell_type": "code",
   "execution_count": null,
   "metadata": {
    "id": "ZyHStYw-Kseb"
   },
   "outputs": [],
   "source": []
  }
 ],
 "metadata": {
  "colab": {
   "collapsed_sections": [],
   "name": "DecisionTree.ipynb",
   "provenance": [
    {
     "file_id": "1c3wmF5gu_EzqyTKavRDn99O7AIeSdoxo",
     "timestamp": 1616655919294
    }
   ],
   "toc_visible": true
  },
  "kernelspec": {
   "display_name": "Python 3",
   "language": "python",
   "name": "python3"
  },
  "language_info": {
   "codemirror_mode": {
    "name": "ipython",
    "version": 3
   },
   "file_extension": ".py",
   "mimetype": "text/x-python",
   "name": "python",
   "nbconvert_exporter": "python",
   "pygments_lexer": "ipython3",
   "version": "3.8.5"
  },
  "toc": {
   "base_numbering": 1,
   "nav_menu": {},
   "number_sections": true,
   "sideBar": true,
   "skip_h1_title": false,
   "title_cell": "Table of Contents",
   "title_sidebar": "Contents",
   "toc_cell": false,
   "toc_position": {},
   "toc_section_display": true,
   "toc_window_display": true
  }
 },
 "nbformat": 4,
 "nbformat_minor": 5
}
